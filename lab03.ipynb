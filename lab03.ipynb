{
  "nbformat": 4,
  "nbformat_minor": 0,
  "metadata": {
    "colab": {
      "name": "lab03.ipynb",
      "provenance": [],
      "authorship_tag": "ABX9TyM9GvP+byu6uVVcoLQRIVoR",
      "include_colab_link": true
    },
    "kernelspec": {
      "name": "python3",
      "display_name": "Python 3"
    }
  },
  "cells": [
    {
      "cell_type": "markdown",
      "metadata": {
        "id": "view-in-github",
        "colab_type": "text"
      },
      "source": [
        "<a href=\"https://colab.research.google.com/github/reevutrprog/TRPROG/blob/master/lab03.ipynb\" target=\"_parent\"><img src=\"https://colab.research.google.com/assets/colab-badge.svg\" alt=\"Open In Colab\"/></a>"
      ]
    },
    {
      "cell_type": "code",
      "metadata": {
        "id": "n5UmEWWnW5bv"
      },
      "source": [
        "#list of 007 movies where Sean Connery features James Bond\n",
        "moviesSeanConnery = [\"Dr. No (1962)\",\n",
        "\"From Russia with Love (1963)\",\n",
        "\"Goldfinger (1964)\",\n",
        "\"Thunderball (1965)\",\n",
        "\"You Only Live Twice (1967)\",\n",
        "\"Diamonds Are Forever (1971)\",    \n",
        "\"Never Say Never Again (1983)\"]  \n",
        "\n",
        "#list of 007 movies where David Neven features James Bond\n",
        "moviesDavidNeven=[\"Casino Royale (1967)\"]    \n",
        "\n",
        "#list of 007 movies where George Lazenby features James Bond\n",
        "moviesGeorgeLazenby=[\"On Her Majesty's Secret Service (1969)\"]  \n",
        "          \n",
        "#list of 007 movies where Roger Moore features James Bond   \n",
        "moviesRogerMoore=[ \"Live and Let Die (1973)\",\n",
        "\"The Man with the Golden Gun (1974)\",\n",
        "\"The Spy Who Loved Me (1977)\",\n",
        "\"Moonraker (1979)\",\n",
        "\"For Your Eyes Only (1981)\",\n",
        "\"Octopussy (1983)\",\n",
        "\"A View to a Kill (1985)\"]\n",
        "\n",
        "#list of 007 movies where Timothy Dalton features James Bond  \n",
        "moviesTimothyDalton=[\n",
        "\"The Living Daylights (1987)\",\n",
        "\"Licence to Kill (1989)\"  \n",
        "]\n",
        "\n",
        "#list of 007 movies where Pierce Brosnan features James Bond  \n",
        "moviesPierceBrosnan=[\n",
        "\"GoldenEye (1995)\",\n",
        "\"Tomorrow Never Dies (1997)\",\n",
        "\"The World Is Not Enough (1999)\",\n",
        "\"Die Another Day (2002)\"\n",
        "]\n",
        "\n",
        "#list of 007 movies where Daniel Craig features James Bond \n",
        "moviesDanielCraig=[\"Casino Royale (2006)\",\n",
        "\"Quantum of Solace (2008)\",\n",
        "\"Skyfall (2012)\",\n",
        "\"Spectre (2015)\"]"
      ],
      "execution_count": null,
      "outputs": []
    },
    {
      "cell_type": "code",
      "metadata": {
        "id": "Gk6tS4z6XSuX",
        "outputId": "c5441533-4958-4438-f7b4-a5e4de8e61f6",
        "colab": {
          "base_uri": "https://localhost:8080/",
          "height": 433
        }
      },
      "source": [
        "#1) create a list of lists (movies007). The list will be composed by each list of movies featured by each actor.\n",
        "\n",
        "movies007=[]\n",
        "movies007.append(moviesSeanConnery)\n",
        "movies007.append(moviesDavidNeven)\n",
        "movies007.append(moviesGeorgeLazenby)\n",
        "movies007.append(moviesRogerMoore)\n",
        "movies007.append(moviesTimothyDalton)\n",
        "movies007.append(moviesPierceBrosnan)\n",
        "movies007.append(moviesDanielCraig)\n",
        "movies007"
      ],
      "execution_count": null,
      "outputs": [
        {
          "output_type": "execute_result",
          "data": {
            "text/plain": [
              "[['Dr. No (1962)',\n",
              "  'From Russia with Love (1963)',\n",
              "  'Goldfinger (1964)',\n",
              "  'Thunderball (1965)',\n",
              "  'You Only Live Twice (1967)',\n",
              "  'Diamonds Are Forever (1971)',\n",
              "  'Never Say Never Again (1983)'],\n",
              " ['Casino Royale (1967)'],\n",
              " [\"On Her Majesty's Secret Service (1969)\"],\n",
              " ['Live and Let Die (1973)',\n",
              "  'The Man with the Golden Gun (1974)',\n",
              "  'The Spy Who Loved Me (1977)',\n",
              "  'Moonraker (1979)',\n",
              "  'For Your Eyes Only (1981)',\n",
              "  'Octopussy (1983)',\n",
              "  'A View to a Kill (1985)'],\n",
              " ['The Living Daylights (1987)', 'Licence to Kill (1989)'],\n",
              " ['GoldenEye (1995)',\n",
              "  'Tomorrow Never Dies (1997)',\n",
              "  'The World Is Not Enough (1999)',\n",
              "  'Die Another Day (2002)'],\n",
              " ['Casino Royale (2006)',\n",
              "  'Quantum of Solace (2008)',\n",
              "  'Skyfall (2012)',\n",
              "  'Spectre (2015)']]"
            ]
          },
          "metadata": {
            "tags": []
          },
          "execution_count": 17
        }
      ]
    },
    {
      "cell_type": "code",
      "metadata": {
        "id": "ccn1MdUPXd2u",
        "outputId": "16d5e89c-3176-4c69-cda0-5eb393ec5ed6",
        "colab": {
          "base_uri": "https://localhost:8080/",
          "height": 133
        }
      },
      "source": [
        "#2) How many movies were played by the first actor to play James Bond?\n",
        "\n",
        "movies007[0]"
      ],
      "execution_count": null,
      "outputs": [
        {
          "output_type": "execute_result",
          "data": {
            "text/plain": [
              "['Dr. No (1962)',\n",
              " 'From Russia with Love (1963)',\n",
              " 'Goldfinger (1964)',\n",
              " 'Thunderball (1965)',\n",
              " 'You Only Live Twice (1967)',\n",
              " 'Diamonds Are Forever (1971)',\n",
              " 'Never Say Never Again (1983)']"
            ]
          },
          "metadata": {
            "tags": []
          },
          "execution_count": 18
        }
      ]
    },
    {
      "cell_type": "code",
      "metadata": {
        "id": "RsNwGwAIXhdf",
        "outputId": "9198d2d1-175d-4f64-f6cd-7136632c5c88",
        "colab": {
          "base_uri": "https://localhost:8080/",
          "height": 33
        }
      },
      "source": [
        "#How many movies were played by the last actor to play James Bond?\n",
        "\n",
        "len(movies007[-1])"
      ],
      "execution_count": null,
      "outputs": [
        {
          "output_type": "execute_result",
          "data": {
            "text/plain": [
              "4"
            ]
          },
          "metadata": {
            "tags": []
          },
          "execution_count": 21
        }
      ]
    },
    {
      "cell_type": "code",
      "metadata": {
        "id": "QeE9kaweXmZl",
        "outputId": "ce5b0ce6-cdd0-4ef2-ddaf-6798bf7e0c3d",
        "colab": {
          "base_uri": "https://localhost:8080/",
          "height": 33
        }
      },
      "source": [
        "#How many actors played the role of James Bond?\n",
        "\n",
        "len(movies007)"
      ],
      "execution_count": null,
      "outputs": [
        {
          "output_type": "execute_result",
          "data": {
            "text/plain": [
              "7"
            ]
          },
          "metadata": {
            "tags": []
          },
          "execution_count": 20
        }
      ]
    },
    {
      "cell_type": "code",
      "metadata": {
        "id": "cUWWRYC1XsIV",
        "outputId": "07da71b0-692d-4fc4-f5df-e5a0c3afc96b",
        "colab": {
          "base_uri": "https://localhost:8080/",
          "height": 33
        }
      },
      "source": [
        "#Create a new list with the number of movies played by each actor\n",
        "\n",
        "newmovielist = []\n",
        "\n",
        "for i in range(len(movies007)):\n",
        "  newmovielist.append(len(movies007[i]))\n",
        "\n",
        "newmovielist"
      ],
      "execution_count": null,
      "outputs": [
        {
          "output_type": "execute_result",
          "data": {
            "text/plain": [
              "[7, 1, 1, 7, 2, 4, 4]"
            ]
          },
          "metadata": {
            "tags": []
          },
          "execution_count": 22
        }
      ]
    },
    {
      "cell_type": "code",
      "metadata": {
        "id": "ISRE4VqEXtrn",
        "outputId": "6c3453bb-9005-427d-ef4b-cee85cae4b3a",
        "colab": {
          "base_uri": "https://localhost:8080/",
          "height": 33
        }
      },
      "source": [
        "#How many movies were played by the actor who appeared most often in movies?      \n",
        "max(newmovielist)"
      ],
      "execution_count": null,
      "outputs": [
        {
          "output_type": "execute_result",
          "data": {
            "text/plain": [
              "7"
            ]
          },
          "metadata": {
            "tags": []
          },
          "execution_count": 25
        }
      ]
    },
    {
      "cell_type": "code",
      "metadata": {
        "id": "IsinzgRMXwXX",
        "outputId": "a1b19b87-03c8-42bb-c52a-1f81ac2c7c38",
        "colab": {
          "base_uri": "https://localhost:8080/",
          "height": 33
        }
      },
      "source": [
        "#How many movies were played by the actor who appeared in fewer movies?\n",
        "\n",
        "min(newmovielist)"
      ],
      "execution_count": null,
      "outputs": [
        {
          "output_type": "execute_result",
          "data": {
            "text/plain": [
              "1"
            ]
          },
          "metadata": {
            "tags": []
          },
          "execution_count": 26
        }
      ]
    },
    {
      "cell_type": "code",
      "metadata": {
        "id": "51VjX0-2X9P_",
        "outputId": "ee07d0c3-76f0-448e-ea4f-ff178979dfb1",
        "colab": {
          "base_uri": "https://localhost:8080/",
          "height": 450
        }
      },
      "source": [
        "#Create a new list (movies007a) with all the films.\n",
        "movies007a = []\n",
        "movies007a.extend(moviesSeanConnery)\n",
        "movies007a.extend(moviesDavidNeven)\n",
        "movies007a.extend(moviesGeorgeLazenby)\n",
        "movies007a.extend(moviesRogerMoore)\n",
        "movies007a.extend(moviesTimothyDalton)\n",
        "movies007a.extend(moviesPierceBrosnan)\n",
        "movies007a.extend(moviesDanielCraig)\n",
        "movies007a\n"
      ],
      "execution_count": null,
      "outputs": [
        {
          "output_type": "execute_result",
          "data": {
            "text/plain": [
              "['Dr. No (1962)',\n",
              " 'From Russia with Love (1963)',\n",
              " 'Goldfinger (1964)',\n",
              " 'Thunderball (1965)',\n",
              " 'You Only Live Twice (1967)',\n",
              " 'Diamonds Are Forever (1971)',\n",
              " 'Never Say Never Again (1983)',\n",
              " 'Casino Royale (1967)',\n",
              " \"On Her Majesty's Secret Service (1969)\",\n",
              " 'Live and Let Die (1973)',\n",
              " 'The Man with the Golden Gun (1974)',\n",
              " 'The Spy Who Loved Me (1977)',\n",
              " 'Moonraker (1979)',\n",
              " 'For Your Eyes Only (1981)',\n",
              " 'Octopussy (1983)',\n",
              " 'A View to a Kill (1985)',\n",
              " 'The Living Daylights (1987)',\n",
              " 'Licence to Kill (1989)',\n",
              " 'GoldenEye (1995)',\n",
              " 'Tomorrow Never Dies (1997)',\n",
              " 'The World Is Not Enough (1999)',\n",
              " 'Die Another Day (2002)',\n",
              " 'Casino Royale (2006)',\n",
              " 'Quantum of Solace (2008)',\n",
              " 'Skyfall (2012)',\n",
              " 'Spectre (2015)']"
            ]
          },
          "metadata": {
            "tags": []
          },
          "execution_count": 27
        }
      ]
    },
    {
      "cell_type": "code",
      "metadata": {
        "id": "m_LAdJ-jYDXG",
        "outputId": "5e1169db-a2a5-4c35-c9c6-70e01cebc9c2",
        "colab": {
          "base_uri": "https://localhost:8080/",
          "height": 450
        }
      },
      "source": [
        "#Sort the elements of the list\n",
        "\n",
        "movies007a.sort()\n",
        "movies007a"
      ],
      "execution_count": null,
      "outputs": [
        {
          "output_type": "execute_result",
          "data": {
            "text/plain": [
              "['A View to a Kill (1985)',\n",
              " 'Casino Royale (1967)',\n",
              " 'Casino Royale (2006)',\n",
              " 'Diamonds Are Forever (1971)',\n",
              " 'Die Another Day (2002)',\n",
              " 'Dr. No (1962)',\n",
              " 'For Your Eyes Only (1981)',\n",
              " 'From Russia with Love (1963)',\n",
              " 'GoldenEye (1995)',\n",
              " 'Goldfinger (1964)',\n",
              " 'Licence to Kill (1989)',\n",
              " 'Live and Let Die (1973)',\n",
              " 'Moonraker (1979)',\n",
              " 'Never Say Never Again (1983)',\n",
              " 'Octopussy (1983)',\n",
              " \"On Her Majesty's Secret Service (1969)\",\n",
              " 'Quantum of Solace (2008)',\n",
              " 'Skyfall (2012)',\n",
              " 'Spectre (2015)',\n",
              " 'The Living Daylights (1987)',\n",
              " 'The Man with the Golden Gun (1974)',\n",
              " 'The Spy Who Loved Me (1977)',\n",
              " 'The World Is Not Enough (1999)',\n",
              " 'Thunderball (1965)',\n",
              " 'Tomorrow Never Dies (1997)',\n",
              " 'You Only Live Twice (1967)']"
            ]
          },
          "metadata": {
            "tags": []
          },
          "execution_count": 34
        }
      ]
    },
    {
      "cell_type": "code",
      "metadata": {
        "id": "Vx7EbmJCYHZS",
        "outputId": "42454310-51ce-4489-dd65-da71d83ffe5a",
        "colab": {
          "base_uri": "https://localhost:8080/",
          "height": 450
        }
      },
      "source": [
        "#Reverse the order of the list. What will happen if this method is executed twice? Does this method sort the list if it is not sorted?\n",
        "\n",
        "movies007a.reverse()\n",
        "movies007a"
      ],
      "execution_count": null,
      "outputs": [
        {
          "output_type": "execute_result",
          "data": {
            "text/plain": [
              "['You Only Live Twice (1967)',\n",
              " 'Tomorrow Never Dies (1997)',\n",
              " 'Thunderball (1965)',\n",
              " 'The World Is Not Enough (1999)',\n",
              " 'The Spy Who Loved Me (1977)',\n",
              " 'The Man with the Golden Gun (1974)',\n",
              " 'The Living Daylights (1987)',\n",
              " 'Spectre (2015)',\n",
              " 'Skyfall (2012)',\n",
              " 'Quantum of Solace (2008)',\n",
              " \"On Her Majesty's Secret Service (1969)\",\n",
              " 'Octopussy (1983)',\n",
              " 'Never Say Never Again (1983)',\n",
              " 'Moonraker (1979)',\n",
              " 'Live and Let Die (1973)',\n",
              " 'Licence to Kill (1989)',\n",
              " 'Goldfinger (1964)',\n",
              " 'GoldenEye (1995)',\n",
              " 'From Russia with Love (1963)',\n",
              " 'For Your Eyes Only (1981)',\n",
              " 'Dr. No (1962)',\n",
              " 'Die Another Day (2002)',\n",
              " 'Diamonds Are Forever (1971)',\n",
              " 'Casino Royale (2006)',\n",
              " 'Casino Royale (1967)',\n",
              " 'A View to a Kill (1985)']"
            ]
          },
          "metadata": {
            "tags": []
          },
          "execution_count": 35
        }
      ]
    },
    {
      "cell_type": "code",
      "metadata": {
        "id": "jHORBz0hYLM3",
        "outputId": "c6ec2482-3971-4124-e604-83075b592904",
        "colab": {
          "base_uri": "https://localhost:8080/",
          "height": 33
        }
      },
      "source": [
        "#What is the index of the movie \"Spectre (2015)\" in the list of movies?\n",
        "movies007a.index('Spectre (2015)')"
      ],
      "execution_count": null,
      "outputs": [
        {
          "output_type": "execute_result",
          "data": {
            "text/plain": [
              "7"
            ]
          },
          "metadata": {
            "tags": []
          },
          "execution_count": 36
        }
      ]
    },
    {
      "cell_type": "code",
      "metadata": {
        "id": "F6fJCMk1YPgc"
      },
      "source": [
        "#Add the movie \"007 and the bad Guy of the climate change (2020)\" in the 11th position\n",
        "\n",
        "movies007a.insert(10,\"007 and the bad Guy of the climate change (2020)\")\n"
      ],
      "execution_count": null,
      "outputs": []
    },
    {
      "cell_type": "code",
      "metadata": {
        "id": "h9yP7bJtYVnA"
      },
      "source": [
        "#It was a mistake. Remove the movie \"007 and the bad Guy of the climate change (2020)\"\n",
        "movies007a.remove(\"007 and the bad Guy of the climate change (2020)\")"
      ],
      "execution_count": null,
      "outputs": []
    }
  ]
}