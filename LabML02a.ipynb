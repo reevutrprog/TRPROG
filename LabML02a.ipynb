{
  "nbformat": 4,
  "nbformat_minor": 0,
  "metadata": {
    "kernelspec": {
      "display_name": "Python 3",
      "language": "python",
      "name": "python3"
    },
    "language_info": {
      "codemirror_mode": {
        "name": "ipython",
        "version": 3
      },
      "file_extension": ".py",
      "mimetype": "text/x-python",
      "name": "python",
      "nbconvert_exporter": "python",
      "pygments_lexer": "ipython3",
      "version": "3.7.0"
    },
    "colab": {
      "name": "LabML02a.ipynb",
      "provenance": [],
      "include_colab_link": true
    }
  },
  "cells": [
    {
      "cell_type": "markdown",
      "metadata": {
        "id": "view-in-github",
        "colab_type": "text"
      },
      "source": [
        "<a href=\"https://colab.research.google.com/github/reevutrprog/TRPROG/blob/master/LabML02a.ipynb\" target=\"_parent\"><img src=\"https://colab.research.google.com/assets/colab-badge.svg\" alt=\"Open In Colab\"/></a>"
      ]
    },
    {
      "cell_type": "markdown",
      "metadata": {
        "id": "YbKgmsW65Gvp"
      },
      "source": [
        "# Regression using sklearn\n",
        "\n",
        "Author: Carlos J. Costa, ISEG\n",
        "\n",
        "Purpose: Identify the weight of several features in the home prices in Boston.\n",
        "\n",
        "**1** import libraries needed: sklearn and pandas\n",
        "\n",
        "**2** use boston dataset from https://scikit-learn.org/stable/datasets/index.html and convert into two dataframes: X for the features and Y for the target.\n",
        "\n",
        "**3** Verify 5 lines of the features variables\n",
        "\n",
        "**4** Veify datatype\n",
        "\n",
        "**5** Create new features variables with only 2 variables\n",
        "\n",
        "**6** Create and fit the model: model = LinearRegression().fit(features, target)\n",
        "\n",
        "**7** obtain intercept\n",
        "\n",
        "**8** obtain coeficients \n",
        "\n",
        "**9** obtain R^2\n",
        "\n",
        "Comment the following code:"
      ]
    },
    {
      "cell_type": "code",
      "metadata": {
        "id": "-zLBFayB5Gvp"
      },
      "source": [
        "#\n",
        "from sklearn.linear_model import LinearRegression\n",
        "import pandas as pd"
      ],
      "execution_count": null,
      "outputs": []
    },
    {
      "cell_type": "code",
      "metadata": {
        "id": "-O63Aar85Gvp"
      },
      "source": [
        "#\n",
        "from sklearn.datasets import load_boston\n",
        "boston =load_boston()\n",
        "X = pd.DataFrame(boston.data, columns=boston.feature_names)\n",
        "Y = pd.DataFrame(boston.target)"
      ],
      "execution_count": null,
      "outputs": []
    },
    {
      "cell_type": "code",
      "metadata": {
        "id": "DgasmpPm5Gvp"
      },
      "source": [
        "#\n",
        "X.head()"
      ],
      "execution_count": null,
      "outputs": []
    },
    {
      "cell_type": "code",
      "metadata": {
        "id": "wVA3_mLY5Gvp"
      },
      "source": [
        "#\n",
        "X.dtypes"
      ],
      "execution_count": null,
      "outputs": []
    },
    {
      "cell_type": "code",
      "metadata": {
        "id": "Y0St-4DT5Gvp"
      },
      "source": [
        "#\n",
        "X1 = X.iloc[:,0:2]"
      ],
      "execution_count": null,
      "outputs": []
    },
    {
      "cell_type": "code",
      "metadata": {
        "id": "cZnz-FDv5Gvp"
      },
      "source": [
        "#\n",
        "regression = LinearRegression()\n",
        "model = regression.fit(X1, Y)"
      ],
      "execution_count": null,
      "outputs": []
    },
    {
      "cell_type": "code",
      "metadata": {
        "id": "5cg1hamB5Gvp"
      },
      "source": [
        "#\n",
        "model.intercept_"
      ],
      "execution_count": null,
      "outputs": []
    },
    {
      "cell_type": "code",
      "metadata": {
        "id": "8Gc4hI6U5Gvp"
      },
      "source": [
        "#\n",
        "model.coef_"
      ],
      "execution_count": null,
      "outputs": []
    },
    {
      "cell_type": "code",
      "metadata": {
        "id": "iKL3NIDX5Gvp"
      },
      "source": [
        "model.score(X1,Y)"
      ],
      "execution_count": null,
      "outputs": []
    },
    {
      "cell_type": "code",
      "metadata": {
        "id": "ofj8QyfB5Gvp"
      },
      "source": [
        ""
      ],
      "execution_count": null,
      "outputs": []
    }
  ]
}