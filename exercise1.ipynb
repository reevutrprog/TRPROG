{
  "nbformat": 4,
  "nbformat_minor": 0,
  "metadata": {
    "colab": {
      "name": "exercise1.ipynb",
      "provenance": [],
      "authorship_tag": "ABX9TyO/SmHiykKJbnJCFTHx9Lfi",
      "include_colab_link": true
    },
    "kernelspec": {
      "name": "python3",
      "display_name": "Python 3"
    }
  },
  "cells": [
    {
      "cell_type": "markdown",
      "metadata": {
        "id": "view-in-github",
        "colab_type": "text"
      },
      "source": [
        "<a href=\"https://colab.research.google.com/github/reevutrprog/TRPROG/blob/master/exercise1.ipynb\" target=\"_parent\"><img src=\"https://colab.research.google.com/assets/colab-badge.svg\" alt=\"Open In Colab\"/></a>"
      ]
    },
    {
      "cell_type": "code",
      "metadata": {
        "id": "acqwN9fMwzLz"
      },
      "source": [
        "# average grades for ISEG programs 2020\n",
        "economia=164.0\n",
        "gestao=167.5\n",
        "maeg=187.5\n",
        "management=167.0\n",
        "economics=162.5\n",
        "finance=160.0"
      ],
      "execution_count": null,
      "outputs": []
    },
    {
      "cell_type": "code",
      "metadata": {
        "id": "6U07t_bJxAYm"
      },
      "source": [
        "# create a list with average grades of economics programs\n",
        "# the list will have as elements the average grade of economia\n",
        "# and average grade of economics"
      ],
      "execution_count": null,
      "outputs": []
    },
    {
      "cell_type": "code",
      "metadata": {
        "id": "ErV2F0tQxCk2",
        "outputId": "b3a90c8f-f870-4d64-9482-50a1dff65994",
        "colab": {
          "base_uri": "https://localhost:8080/",
          "height": 34
        }
      },
      "source": [
        "list1 = [economia,economics]\n",
        "list1"
      ],
      "execution_count": null,
      "outputs": [
        {
          "output_type": "execute_result",
          "data": {
            "text/plain": [
              "[164.0, 162.5]"
            ]
          },
          "metadata": {
            "tags": []
          },
          "execution_count": 4
        }
      ]
    },
    {
      "cell_type": "code",
      "metadata": {
        "id": "uCU6Wn4Uxe7T"
      },
      "source": [
        "#create a list with average grades of managment programs\n",
        "# the list will have as elements the average grade of managment,\n",
        "# the average grade of finance and average grade of gestao"
      ],
      "execution_count": null,
      "outputs": []
    },
    {
      "cell_type": "code",
      "metadata": {
        "id": "UIsEdkMhxkPE",
        "outputId": "e6cd0354-2eab-406c-d54d-0cffcb98fa8e",
        "colab": {
          "base_uri": "https://localhost:8080/",
          "height": 34
        }
      },
      "source": [
        "list2 = [management,finance,gestao]\n",
        "list2"
      ],
      "execution_count": null,
      "outputs": [
        {
          "output_type": "execute_result",
          "data": {
            "text/plain": [
              "[167.0, 160.0, 167.5]"
            ]
          },
          "metadata": {
            "tags": []
          },
          "execution_count": 5
        }
      ]
    },
    {
      "cell_type": "code",
      "metadata": {
        "id": "xtuUprIhx0pB"
      },
      "source": [
        "#create a list with average grades of mathmatics programs\n",
        "# the list will have as elements the average grade of maeg"
      ],
      "execution_count": null,
      "outputs": []
    },
    {
      "cell_type": "code",
      "metadata": {
        "id": "678FQI1Mx1mH",
        "outputId": "86297413-eb90-4896-a583-179a91cb095c",
        "colab": {
          "base_uri": "https://localhost:8080/",
          "height": 34
        }
      },
      "source": [
        "list3 = [maeg]\n",
        "list3"
      ],
      "execution_count": null,
      "outputs": [
        {
          "output_type": "execute_result",
          "data": {
            "text/plain": [
              "[187.5]"
            ]
          },
          "metadata": {
            "tags": []
          },
          "execution_count": 6
        }
      ]
    },
    {
      "cell_type": "code",
      "metadata": {
        "id": "EWYrzg9oyEBi"
      },
      "source": [
        "#What is the purpose of using extend"
      ],
      "execution_count": null,
      "outputs": []
    },
    {
      "cell_type": "markdown",
      "metadata": {
        "id": "GBe45rkbyFEt"
      },
      "source": [
        "The `extend()` method adds the specified list elements (or any iterable) to the end of the current list.\n",
        "\n"
      ]
    },
    {
      "cell_type": "code",
      "metadata": {
        "id": "MjqDPvNyyOWz"
      },
      "source": [
        "#What is the purpose of using append"
      ],
      "execution_count": null,
      "outputs": []
    },
    {
      "cell_type": "markdown",
      "metadata": {
        "id": "6QZk0AXzyWHf"
      },
      "source": [
        "The `append()` method appends an element to the end of the list."
      ]
    },
    {
      "cell_type": "code",
      "metadata": {
        "id": "wFA_6S3vytdc"
      },
      "source": [
        "#How many elements does listAll1 have?"
      ],
      "execution_count": null,
      "outputs": []
    },
    {
      "cell_type": "code",
      "metadata": {
        "id": "FDD8rEiTzAAa",
        "outputId": "98e9c7b2-ac42-4a0c-b192-1b847990dd3f",
        "colab": {
          "base_uri": "https://localhost:8080/",
          "height": 34
        }
      },
      "source": [
        "listall1 = []\n",
        "listall1.append(list1)\n",
        "listall1.append(list2)\n",
        "listall1.append(list3)\n",
        "\n",
        "len(listall1)"
      ],
      "execution_count": null,
      "outputs": [
        {
          "output_type": "execute_result",
          "data": {
            "text/plain": [
              "3"
            ]
          },
          "metadata": {
            "tags": []
          },
          "execution_count": 9
        }
      ]
    },
    {
      "cell_type": "code",
      "metadata": {
        "id": "7mnwai4ayuln",
        "outputId": "f46ad71d-7b51-43e6-9a6f-12b8912f7893",
        "colab": {
          "base_uri": "https://localhost:8080/",
          "height": 34
        }
      },
      "source": [
        "#How many elements does listAll2 have?\n",
        "\n",
        "listall2 = []\n",
        "listall2.extend(list1)\n",
        "listall2.extend(list2)\n",
        "listall2.extend(list3)\n",
        "\n",
        "len(listall2)"
      ],
      "execution_count": null,
      "outputs": [
        {
          "output_type": "execute_result",
          "data": {
            "text/plain": [
              "6"
            ]
          },
          "metadata": {
            "tags": []
          },
          "execution_count": 10
        }
      ]
    },
    {
      "cell_type": "code",
      "metadata": {
        "id": "8A4AgRQFzQhS",
        "outputId": "2991c2d1-4310-4219-a648-7f3ee091d54e",
        "colab": {
          "base_uri": "https://localhost:8080/",
          "height": 34
        }
      },
      "source": [
        "len(list2)"
      ],
      "execution_count": null,
      "outputs": [
        {
          "output_type": "execute_result",
          "data": {
            "text/plain": [
              "3"
            ]
          },
          "metadata": {
            "tags": []
          },
          "execution_count": 15
        }
      ]
    },
    {
      "cell_type": "code",
      "metadata": {
        "id": "PzfhNx1Gyxgf"
      },
      "source": [
        "#What is the average grade if all the courses have the same weight"
      ],
      "execution_count": null,
      "outputs": []
    },
    {
      "cell_type": "code",
      "metadata": {
        "id": "aQIWpRdQzb5P",
        "outputId": "bd884615-375c-49f5-cfc3-27049c4bccc9",
        "colab": {
          "base_uri": "https://localhost:8080/",
          "height": 34
        }
      },
      "source": [
        "from statistics import mean\n",
        "average = mean(listall2)\n",
        "average"
      ],
      "execution_count": null,
      "outputs": [
        {
          "output_type": "execute_result",
          "data": {
            "text/plain": [
              "168.08333333333334"
            ]
          },
          "metadata": {
            "tags": []
          },
          "execution_count": 11
        }
      ]
    },
    {
      "cell_type": "code",
      "metadata": {
        "id": "m-R-3t6N0avA",
        "outputId": "495adc4d-3747-48df-e9d8-586fd00e3615",
        "colab": {
          "base_uri": "https://localhost:8080/",
          "height": 34
        }
      },
      "source": [
        "avg = sum(listall2)/len(listall2)\n",
        "avg"
      ],
      "execution_count": null,
      "outputs": [
        {
          "output_type": "execute_result",
          "data": {
            "text/plain": [
              "168.08333333333334"
            ]
          },
          "metadata": {
            "tags": []
          },
          "execution_count": 12
        }
      ]
    },
    {
      "cell_type": "code",
      "metadata": {
        "id": "YkBBoRAJwoiJ",
        "outputId": "e494e8b5-7f20-4d01-cc65-e10e126b6709",
        "colab": {
          "base_uri": "https://localhost:8080/",
          "height": 34
        }
      },
      "source": [
        "newList2 = [1,2,3,4,5]\n",
        "newList3=[]\n",
        "for a in newList2 :\n",
        "  newList3.append(a*1.1)\n",
        "\n",
        "newList3\n"
      ],
      "execution_count": null,
      "outputs": [
        {
          "output_type": "execute_result",
          "data": {
            "text/plain": [
              "[1.1, 2.2, 3.3000000000000003, 4.4, 5.5]"
            ]
          },
          "metadata": {
            "tags": []
          },
          "execution_count": 19
        }
      ]
    }
  ]
}