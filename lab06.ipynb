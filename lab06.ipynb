{
  "nbformat": 4,
  "nbformat_minor": 0,
  "metadata": {
    "colab": {
      "name": "lab06.ipynb",
      "provenance": [],
      "authorship_tag": "ABX9TyPu59CngBksefnklU/kaC8c",
      "include_colab_link": true
    },
    "kernelspec": {
      "name": "python3",
      "display_name": "Python 3"
    }
  },
  "cells": [
    {
      "cell_type": "markdown",
      "metadata": {
        "id": "view-in-github",
        "colab_type": "text"
      },
      "source": [
        "<a href=\"https://colab.research.google.com/github/reevutrprog/TRPROG/blob/master/lab06.ipynb\" target=\"_parent\"><img src=\"https://colab.research.google.com/assets/colab-badge.svg\" alt=\"Open In Colab\"/></a>"
      ]
    },
    {
      "cell_type": "markdown",
      "metadata": {
        "id": "QD_1oW35l68S"
      },
      "source": [
        "* calculate NPV. The rate is a float and the cash flows and investment are in a list.\n",
        "* create a function called NPV to calculate NPV\n",
        "* create a function to calcule IRR. In order to calculate IRR you may aproximate the follwoing\n",
        "expression: rate= rate*(1-NPV(CFList, rate)/invest)\n",
        "* create a function for payback period"
      ]
    },
    {
      "cell_type": "code",
      "metadata": {
        "id": "y2DSHMuRmSvI"
      },
      "source": [
        "#Supose you have the follwoing cashflow\n",
        "CFList1=[-1500, 500, 400, 400, 500,1000]\n",
        "rate= 0.05"
      ],
      "execution_count": null,
      "outputs": []
    },
    {
      "cell_type": "code",
      "metadata": {
        "id": "shUk2ltomZ9H"
      },
      "source": [
        "#calcule the NPV sugestion: iterate both by index and value using enumerate\n",
        "NPV=0\n",
        "for year, cf in enumerate(CFList):\n",
        "    NPV = NPV + cf / ((1+rate)**(year))"
      ],
      "execution_count": null,
      "outputs": []
    },
    {
      "cell_type": "code",
      "metadata": {
        "id": "LotM5ZySmg4B",
        "colab": {
          "base_uri": "https://localhost:8080/"
        },
        "outputId": "21dfdf22-1c57-4d48-89d0-3e34f9818634"
      },
      "source": [
        "print(NPV)"
      ],
      "execution_count": null,
      "outputs": [
        {
          "output_type": "stream",
          "text": [
            "3260.3670918030675\n"
          ],
          "name": "stdout"
        }
      ]
    },
    {
      "cell_type": "code",
      "metadata": {
        "id": "fvj1ba3EmhfN"
      },
      "source": [
        "#create a function called NPV that returns the NPV value\n",
        "\n",
        "def NPV (CFList,rate):\n",
        "    npval=0\n",
        "    for year, cf in enumerate(CFList):\n",
        "        npval=npval + cf / ((1+rate)**(year))\n",
        "    return npval"
      ],
      "execution_count": null,
      "outputs": []
    },
    {
      "cell_type": "code",
      "metadata": {
        "id": "MCXPDeFpmlNo",
        "colab": {
          "base_uri": "https://localhost:8080/"
        },
        "outputId": "ab446fd4-a982-4069-9728-3c5b5c5bd00a"
      },
      "source": [
        "print(NPV(CFList, rate))"
      ],
      "execution_count": null,
      "outputs": [
        {
          "output_type": "stream",
          "text": [
            "3260.3670918030675\n"
          ],
          "name": "stdout"
        }
      ]
    },
    {
      "cell_type": "code",
      "metadata": {
        "id": "luzar5jVmn0K"
      },
      "source": [
        "#IRR function\n",
        "def irr(CFList, iterations=1000):\n",
        "    rate=1.0\n",
        "    investment = CFList[0]\n",
        "    for i in range(1, iterations+1):\n",
        "        rate= rate*(1-NPV(CFList, rate)/investment)\n",
        "    return rate"
      ],
      "execution_count": null,
      "outputs": []
    },
    {
      "cell_type": "code",
      "metadata": {
        "id": "s97TkwEdmzYU",
        "colab": {
          "base_uri": "https://localhost:8080/"
        },
        "outputId": "cc5d062b-0115-424e-a506-d3d8a26f390d"
      },
      "source": [
        "print(irr(CFList))"
      ],
      "execution_count": null,
      "outputs": [
        {
          "output_type": "stream",
          "text": [
            "1.2301863301911853\n"
          ],
          "name": "stdout"
        }
      ]
    },
    {
      "cell_type": "code",
      "metadata": {
        "id": "VLQIlf35m4BU",
        "colab": {
          "base_uri": "https://localhost:8080/"
        },
        "outputId": "7cd717a7-e5a8-4741-cfd2-59c2d85f471f"
      },
      "source": [
        "CFList=[-1500, 500, 400, 400, 500,1000]\n",
        "i=0\n",
        "payback=0\n",
        "while payback<=-CFList[0]:\n",
        "    i+=1\n",
        "    payback+=CFList[i]\n",
        "\n",
        "print(i)\n",
        "#print((payback+CFList[0])/CFList[i-1]+i-1)"
      ],
      "execution_count": null,
      "outputs": [
        {
          "output_type": "stream",
          "text": [
            "4\n"
          ],
          "name": "stdout"
        }
      ]
    }
  ]
}