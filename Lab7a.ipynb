{
  "nbformat": 4,
  "nbformat_minor": 0,
  "metadata": {
    "kernelspec": {
      "display_name": "Python 3",
      "language": "python",
      "name": "python3"
    },
    "language_info": {
      "codemirror_mode": {
        "name": "ipython",
        "version": 3
      },
      "file_extension": ".py",
      "mimetype": "text/x-python",
      "name": "python",
      "nbconvert_exporter": "python",
      "pygments_lexer": "ipython3",
      "version": "3.7.6"
    },
    "colab": {
      "name": "Lab7a.ipynb",
      "provenance": [],
      "include_colab_link": true
    }
  },
  "cells": [
    {
      "cell_type": "markdown",
      "metadata": {
        "id": "view-in-github",
        "colab_type": "text"
      },
      "source": [
        "<a href=\"https://colab.research.google.com/github/reevutrprog/TRPROG/blob/master/Lab7a.ipynb\" target=\"_parent\"><img src=\"https://colab.research.google.com/assets/colab-badge.svg\" alt=\"Open In Colab\"/></a>"
      ]
    },
    {
      "cell_type": "markdown",
      "metadata": {
        "id": "zYsDtC-TukNB"
      },
      "source": [
        "# Lab 7 \n",
        "\n",
        "A simple chatbot\n",
        "\n",
        "**1.** Create a function that asks the user his name and says Hello, John Doe\n",
        "\n",
        "**2.** Create a function called chat that ask the user what is his problem and will answer \"yes of course\"\n",
        "\n",
        "**3.** Create a function called chat that ask the user what is his problem and will answer randomly among 6 possible answers\n",
        "\n",
        "**4.** Put all together and improve\n"
      ]
    },
    {
      "cell_type": "markdown",
      "metadata": {
        "id": "VjMh32cvukNC"
      },
      "source": [
        "**1.** Create a function that ask the user his name and says Hello, John Doe"
      ]
    },
    {
      "cell_type": "code",
      "metadata": {
        "id": "xf5xoSe3ukNC",
        "colab": {
          "base_uri": "https://localhost:8080/"
        },
        "outputId": "7cfffda1-ef7f-4429-d9d8-c696ec9f9883"
      },
      "source": [
        "# Create a function that ask the user his name and says Hello, John Doe\n",
        "def chatbot1():\n",
        "    a=\"\"\n",
        "    while a==\"\":\n",
        "        a= input(\"computer: Hi! What is your name?\\nuser: \")       \n",
        "    print(\"Computer: Hello, \"+a+\"! \")\n",
        "\n",
        "chatbot1()\n",
        "\n",
        "    \n",
        "    \n"
      ],
      "execution_count": null,
      "outputs": [
        {
          "output_type": "stream",
          "text": [
            "computer: Hi! What is your name?\n",
            "user: Reevu\n",
            "Computer: Hello, Reevu! \n"
          ],
          "name": "stdout"
        }
      ]
    },
    {
      "cell_type": "markdown",
      "metadata": {
        "id": "oB97ZPcHukNG"
      },
      "source": [
        "**2.** Create a function called chat that ask the user what is his problem and will answer \"yes of course\""
      ]
    },
    {
      "cell_type": "code",
      "metadata": {
        "id": "ZZBvfxm0ukNH",
        "colab": {
          "base_uri": "https://localhost:8080/"
        },
        "outputId": "a19ebc2a-4be3-4092-aab8-c1ea3093c307"
      },
      "source": [
        "# Create a function called chat that ask the user what is his problem and will answer \"yes of course\"\n",
        "def chatbot2():\n",
        "    problem=\"\"  \n",
        "    while problem!= \"exit\":    \n",
        "        problem= input(\"Bot: what is your problem?\\nuser:\")\n",
        "        if(problem!=\"\"):\n",
        "            print(\"Bot: yes of course\")\n",
        "            break #Luxury break not really needed\n",
        "chatbot2()"
      ],
      "execution_count": null,
      "outputs": [
        {
          "output_type": "stream",
          "text": [
            "Bot: what is your problem?\n",
            "user:Nothing\n",
            "Bot: yes of course\n"
          ],
          "name": "stdout"
        }
      ]
    },
    {
      "cell_type": "markdown",
      "metadata": {
        "id": "zXJi7FqSukNL"
      },
      "source": [
        "**3.** Create a function called chat that ask the user what is his problem and will answer randomly among 6 possible answers"
      ]
    },
    {
      "cell_type": "code",
      "metadata": {
        "id": "Z2jSL_rYukNL",
        "colab": {
          "base_uri": "https://localhost:8080/"
        },
        "outputId": "6d0e040d-76a1-42e6-fa4f-2a20e8f9e7ec"
      },
      "source": [
        "# Create a function called chat that ask the user what is his problem and will answer randomly among 6 possible answers\n",
        "import random\n",
        "text=[\"Yes\", \"No\", \"Whatever\", \"Orange Hair is the best hair \",\"By a Lot\",\"There are 8 cats in ISEG\" ]\n",
        "def chatbot3():\n",
        "    prob=\"\"  \n",
        "    while prob!= \"exit\":    \n",
        "        prob= input(\"bot: what seems to be the problem?\\nuser: \")\n",
        "        if(prob!=\"\"):\n",
        "            answer=random.randint(0,5)\n",
        "            print(\"bot: \"+text[answer])\n",
        "            \n",
        "chatbot3()"
      ],
      "execution_count": null,
      "outputs": [
        {
          "output_type": "stream",
          "text": [
            "bot: what seems to be the problem?\n",
            "user: sdf\n",
            "bot: Whatever\n",
            "bot: what seems to be the problem?\n",
            "user: exit\n",
            "bot: No\n"
          ],
          "name": "stdout"
        }
      ]
    },
    {
      "cell_type": "markdown",
      "metadata": {
        "id": "DlJR35KqukNO"
      },
      "source": [
        "**4.** Put all together and improve"
      ]
    },
    {
      "cell_type": "code",
      "metadata": {
        "id": "rd1xIAEYukNO",
        "colab": {
          "base_uri": "https://localhost:8080/"
        },
        "outputId": "a665f830-ab76-4e1d-ef64-8f32fc803a5b"
      },
      "source": [
        "chatbot1()\n",
        "chatbot2()\n",
        "chatbot3()"
      ],
      "execution_count": null,
      "outputs": [
        {
          "output_type": "stream",
          "text": [
            "computer: Hi! What is your name?\n",
            "user: Reevu\n",
            "Computer: Hello, Reevu! \n",
            "Bot: what is your problem?\n",
            "user:Nothing\n",
            "yes of course\n",
            "bot: what seems to the problem?\n",
            "user: ss\n",
            "bot:You have cavities. Go see a dentist\n"
          ],
          "name": "stdout"
        }
      ]
    },
    {
      "cell_type": "code",
      "metadata": {
        "id": "Rk_vM0VNukNQ"
      },
      "source": [
        "import random\n",
        "class chatbot:\n",
        "  List_of_answers = ['Run', 'Sleep', 'Eat', 'Drink', 'Smile', 'Rest']\n",
        "  def chat(self):\n",
        "    problem = input(\"Computer: Hi! What is your problem? \")\n",
        "    while problem == \"\":\n",
        "      problem = input(\"Computer: What is your problem? \")\n",
        "    print('Computer: You should ' +choice(List_of_answers))\n",
        "\n",
        "  def Chat(self):\n",
        "    problem = input(\"Computer: Hi! What is your problem? \\nUser: \" )\n",
        "    while problem == \"\":\n",
        "      problem = input(\"Computer: What is your problem? \\nUser: \" )\n",
        "    print(\"Yes of course\")\n",
        "\n",
        "  def Hi(self):\n",
        "    name = input(\"Computer: Hi! What is your name? \\nUser: \" )\n",
        "    while name == \"\":\n",
        "      name = input(\"Computer: Hi! What is your name? \\nUser: \" )\n",
        "    print(\"Computer: Hello, \" +name+\".\")\n",
        "Chatroom = chatbot()"
      ],
      "execution_count": null,
      "outputs": []
    },
    {
      "cell_type": "code",
      "metadata": {
        "id": "ORlIhbyO79-6"
      },
      "source": [
        "import random\n",
        "\n",
        "def inpppp():\n",
        "  str_1,str_2,str_3 =\"\",\"\",\"\" \n",
        "  str_1 = input(\"What is your name\")\n",
        " "
      ],
      "execution_count": null,
      "outputs": []
    }
  ]
}