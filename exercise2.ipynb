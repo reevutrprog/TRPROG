{
  "nbformat": 4,
  "nbformat_minor": 0,
  "metadata": {
    "colab": {
      "name": "exercise2.ipynb",
      "provenance": [],
      "include_colab_link": true
    },
    "kernelspec": {
      "name": "python3",
      "display_name": "Python 3"
    }
  },
  "cells": [
    {
      "cell_type": "markdown",
      "metadata": {
        "id": "view-in-github",
        "colab_type": "text"
      },
      "source": [
        "<a href=\"https://colab.research.google.com/github/reevutrprog/TRPROG/blob/master/exercise2.ipynb\" target=\"_parent\"><img src=\"https://colab.research.google.com/assets/colab-badge.svg\" alt=\"Open In Colab\"/></a>"
      ]
    },
    {
      "cell_type": "code",
      "metadata": {
        "id": "sjRsZtA42PMW"
      },
      "source": [
        "# Create the most suitable data structures to the data in the next cell."
      ],
      "execution_count": null,
      "outputs": []
    },
    {
      "cell_type": "code",
      "metadata": {
        "id": "UM8WgnaK2RTO"
      },
      "source": [
        "a = {}# This is an empty dictionary\n",
        "a[1104]=\"Universidade do Porto - Faculdade de Economia\"\n",
        "a[904]=\"Universidade Nova de Lisboa - Faculdade de Economia\"\n",
        "a[1000]=\"Universidade do Minho\"\n",
        "a[6800]=\"ISCTE - Instituto Universitário de Lisboa\"\n",
        "a[300]=\"Universidade de Aveiro\"\n",
        "a[503]=\"Universidade de Coimbra - Faculdade de Economia\"\n",
        "a[1517]=\"Universidade de Lisboa - Instituto Superior de Economia e Gestão\"\n",
        "a[1202]=\"Universidade de Trás-os-Montes e Alto Douro - Escola de Ciências Humanas e Sociais\"\n",
        "a[3117]=\"Instituto Politécnico de Lisboa - Instituto Superior de Contabilidade e Administra\"\n",
        "a[400]=\"Universidade da Beira Interior\"\n",
        "a[604]=\"Universidade de Évora - Escola de Ciências Sociais\"\n",
        "a[3163]=\"Instituto Politécnico de Viana do Castelo - Escola Superior de Tecnologia e Gestão\"\n",
        "a[1308]=\"Universidade da Madeira - Faculdade de Ciências Sociais\"\n",
        "a[3102]=\"Instituto Politécnico de Leiria - Escola Superior de Tecnologia e Gestão\"\n",
        "a[3065]=\"Instituto Politécnico de Coimbra - Escola Superior de Tecnologia e Gestão de Olive\"\n",
        "a[3082]=\"Universidade do Algarve - Escola Superior de Gestão, Hotelaria e Turismo\"\n",
        "a[170]=\"Universidade dos Açores - Faculdade de Economia e Gestão\"\n",
        "a[3043]=\"Instituto Politécnico de Bragança - Escola Superior de Tecnologia e de Gestão de B\"\n",
        "a[3087]=\"Universidade do Algarve - Escola Superior de Gestão, Hotelaria e Turismo (Portimão\"\n",
        "a[3092]=\"Instituto Politécnico da Guarda - Escola Superior de Tecnologia e Gestão\"\n",
        "a[3122]=\"Instituto Politécnico de Portalegre - Escola Superior de Tecnologia e Gestão\"\n",
        "a[3054]=\"Instituto Politécnico de Castelo Branco - Escola Superior de Gestão de Idanha-a-No\"\n",
        "\n",
        "grade = {} # Empty Dictionary\n",
        "grade[1104]=185.0\n",
        "grade[904]=182.0\n",
        "grade[1000]=176.4\n",
        "grade[6800]=173.5\n",
        "grade[300]=171.8\n",
        "grade[503]=169.0\n",
        "grade[1517]=167.5\n",
        "grade[1202]=157.8\n",
        "grade[3117]=156.1\n",
        "grade[400]=152.0\n",
        "grade[604]=146.4\n",
        "grade[3163]=144.2\n",
        "grade[1308]=143.9\n",
        "grade[3102]=140.0\n",
        "grade[3065]=138.2\n",
        "grade[3082]=133.3\n",
        "grade[170]=133.2\n",
        "grade[3043]=125.4\n",
        "grade[3087]=123.5\n",
        "grade[3092]=112.6\n",
        "grade[3122]=109.7"
      ],
      "execution_count": null,
      "outputs": []
    },
    {
      "cell_type": "code",
      "metadata": {
        "id": "u6QYTSAVDrqF",
        "outputId": "7f46592a-5b72-4a40-a1eb-59c605fe6453",
        "colab": {
          "base_uri": "https://localhost:8080/",
          "height": 391
        }
      },
      "source": [
        "a"
      ],
      "execution_count": null,
      "outputs": [
        {
          "output_type": "execute_result",
          "data": {
            "text/plain": [
              "{170: 'Universidade dos Açores - Faculdade de Economia e Gestão',\n",
              " 300: 'Universidade de Aveiro',\n",
              " 400: 'Universidade da Beira Interior',\n",
              " 503: 'Universidade de Coimbra - Faculdade de Economia',\n",
              " 604: 'Universidade de Évora - Escola de Ciências Sociais',\n",
              " 904: 'Universidade Nova de Lisboa - Faculdade de Economia',\n",
              " 1000: 'Universidade do Minho',\n",
              " 1104: 'Universidade do Porto - Faculdade de Economia',\n",
              " 1202: 'Universidade de Trás-os-Montes e Alto Douro - Escola de Ciências Humanas e Sociais',\n",
              " 1308: 'Universidade da Madeira - Faculdade de Ciências Sociais',\n",
              " 1517: 'Universidade de Lisboa - Instituto Superior de Economia e Gestão',\n",
              " 3043: 'Instituto Politécnico de Bragança - Escola Superior de Tecnologia e de Gestão de B',\n",
              " 3054: 'Instituto Politécnico de Castelo Branco - Escola Superior de Gestão de Idanha-a-No',\n",
              " 3065: 'Instituto Politécnico de Coimbra - Escola Superior de Tecnologia e Gestão de Olive',\n",
              " 3082: 'Universidade do Algarve - Escola Superior de Gestão, Hotelaria e Turismo',\n",
              " 3087: 'Universidade do Algarve - Escola Superior de Gestão, Hotelaria e Turismo (Portimão',\n",
              " 3092: 'Instituto Politécnico da Guarda - Escola Superior de Tecnologia e Gestão',\n",
              " 3102: 'Instituto Politécnico de Leiria - Escola Superior de Tecnologia e Gestão',\n",
              " 3117: 'Instituto Politécnico de Lisboa - Instituto Superior de Contabilidade e Administra',\n",
              " 3122: 'Instituto Politécnico de Portalegre - Escola Superior de Tecnologia e Gestão',\n",
              " 3163: 'Instituto Politécnico de Viana do Castelo - Escola Superior de Tecnologia e Gestão',\n",
              " 6800: 'ISCTE - Instituto Universitário de Lisboa'}"
            ]
          },
          "metadata": {
            "tags": []
          },
          "execution_count": 3
        }
      ]
    },
    {
      "cell_type": "code",
      "metadata": {
        "id": "zjJEEFQ5D6-4",
        "outputId": "78c27252-7eb9-4ac5-ff88-d7858bbc0f35",
        "colab": {
          "base_uri": "https://localhost:8080/",
          "height": 374
        }
      },
      "source": [
        "grade"
      ],
      "execution_count": null,
      "outputs": [
        {
          "output_type": "execute_result",
          "data": {
            "text/plain": [
              "{170: 133.2,\n",
              " 300: 171.8,\n",
              " 400: 152.0,\n",
              " 503: 169.0,\n",
              " 604: 146.4,\n",
              " 904: 182.0,\n",
              " 1000: 176.4,\n",
              " 1104: 185.0,\n",
              " 1202: 157.8,\n",
              " 1308: 143.9,\n",
              " 1517: 167.5,\n",
              " 3043: 125.4,\n",
              " 3065: 138.2,\n",
              " 3082: 133.3,\n",
              " 3087: 123.5,\n",
              " 3092: 112.6,\n",
              " 3102: 140.0,\n",
              " 3117: 156.1,\n",
              " 3122: 109.7,\n",
              " 3163: 144.2,\n",
              " 6800: 173.5}"
            ]
          },
          "metadata": {
            "tags": []
          },
          "execution_count": 4
        }
      ]
    },
    {
      "cell_type": "code",
      "metadata": {
        "id": "mAFjnzjW6mK9",
        "outputId": "7b90542c-db24-4327-99cc-92239963b6b3",
        "colab": {
          "base_uri": "https://localhost:8080/",
          "height": 54
        }
      },
      "source": [
        "result = {}\n",
        "for key in (a.keys() | grade.keys()):\n",
        "    if key in a: result.setdefault(key, []).append(a[key])\n",
        "    if key in grade: result.setdefault(key, []).append(grade[key])\n",
        "\n",
        "print(result)"
      ],
      "execution_count": null,
      "outputs": [
        {
          "output_type": "stream",
          "text": [
            "{904: ['Universidade Nova de Lisboa - Faculdade de Economia', 182.0], 3082: ['Universidade do Algarve - Escola Superior de Gestão, Hotelaria e Turismo', 133.3], 3087: ['Universidade do Algarve - Escola Superior de Gestão, Hotelaria e Turismo (Portimão', 123.5], 6800: ['ISCTE - Instituto Universitário de Lisboa', 173.5], 400: ['Universidade da Beira Interior', 152.0], 3092: ['Instituto Politécnico da Guarda - Escola Superior de Tecnologia e Gestão', 112.6], 1308: ['Universidade da Madeira - Faculdade de Ciências Sociais', 143.9], 3102: ['Instituto Politécnico de Leiria - Escola Superior de Tecnologia e Gestão', 140.0], 170: ['Universidade dos Açores - Faculdade de Economia e Gestão', 133.2], 300: ['Universidade de Aveiro', 171.8], 3117: ['Instituto Politécnico de Lisboa - Instituto Superior de Contabilidade e Administra', 156.1], 1202: ['Universidade de Trás-os-Montes e Alto Douro - Escola de Ciências Humanas e Sociais', 157.8], 3122: ['Instituto Politécnico de Portalegre - Escola Superior de Tecnologia e Gestão', 109.7], 1104: ['Universidade do Porto - Faculdade de Economia', 185.0], 3163: ['Instituto Politécnico de Viana do Castelo - Escola Superior de Tecnologia e Gestão', 144.2], 604: ['Universidade de Évora - Escola de Ciências Sociais', 146.4], 3043: ['Instituto Politécnico de Bragança - Escola Superior de Tecnologia e de Gestão de B', 125.4], 1000: ['Universidade do Minho', 176.4], 1517: ['Universidade de Lisboa - Instituto Superior de Economia e Gestão', 167.5], 3054: ['Instituto Politécnico de Castelo Branco - Escola Superior de Gestão de Idanha-a-No'], 503: ['Universidade de Coimbra - Faculdade de Economia', 169.0], 3065: ['Instituto Politécnico de Coimbra - Escola Superior de Tecnologia e Gestão de Olive', 138.2]}\n"
          ],
          "name": "stdout"
        }
      ]
    },
    {
      "cell_type": "code",
      "metadata": {
        "id": "CD0PAwh29Qdt",
        "outputId": "fdfedf4e-161e-4377-edba-6358125d5c0d",
        "colab": {
          "base_uri": "https://localhost:8080/",
          "height": 204
        }
      },
      "source": [
        "#How many schools have the program of Gestao?\n",
        "result1 = {}\n",
        "for key,values in a.items():\n",
        "  if 'Gestão' in values:\n",
        "    result1.setdefault(key, []).append(a[key])\n",
        "\n",
        "result1\n",
        "\n",
        "\n"
      ],
      "execution_count": null,
      "outputs": [
        {
          "output_type": "execute_result",
          "data": {
            "text/plain": [
              "{170: ['Universidade dos Açores - Faculdade de Economia e Gestão'],\n",
              " 1517: ['Universidade de Lisboa - Instituto Superior de Economia e Gestão'],\n",
              " 3043: ['Instituto Politécnico de Bragança - Escola Superior de Tecnologia e de Gestão de B'],\n",
              " 3054: ['Instituto Politécnico de Castelo Branco - Escola Superior de Gestão de Idanha-a-No'],\n",
              " 3065: ['Instituto Politécnico de Coimbra - Escola Superior de Tecnologia e Gestão de Olive'],\n",
              " 3082: ['Universidade do Algarve - Escola Superior de Gestão, Hotelaria e Turismo'],\n",
              " 3087: ['Universidade do Algarve - Escola Superior de Gestão, Hotelaria e Turismo (Portimão'],\n",
              " 3092: ['Instituto Politécnico da Guarda - Escola Superior de Tecnologia e Gestão'],\n",
              " 3102: ['Instituto Politécnico de Leiria - Escola Superior de Tecnologia e Gestão'],\n",
              " 3122: ['Instituto Politécnico de Portalegre - Escola Superior de Tecnologia e Gestão'],\n",
              " 3163: ['Instituto Politécnico de Viana do Castelo - Escola Superior de Tecnologia e Gestão']}"
            ]
          },
          "metadata": {
            "tags": []
          },
          "execution_count": 5
        }
      ]
    },
    {
      "cell_type": "code",
      "metadata": {
        "id": "d3TRUtXGReu7",
        "outputId": "c5932d2a-be4f-4891-b281-439f33d46198",
        "colab": {
          "base_uri": "https://localhost:8080/",
          "height": 34
        }
      },
      "source": [
        "len(result1)"
      ],
      "execution_count": null,
      "outputs": [
        {
          "output_type": "execute_result",
          "data": {
            "text/plain": [
              "11"
            ]
          },
          "metadata": {
            "tags": []
          },
          "execution_count": 10
        }
      ]
    },
    {
      "cell_type": "code",
      "metadata": {
        "id": "lxl0Rt9k9RVG",
        "outputId": "d5e52e31-6bba-4e65-97a9-ff739f1cb629",
        "colab": {
          "base_uri": "https://localhost:8080/",
          "height": 34
        }
      },
      "source": [
        "#What is the average grade in gestão?\n",
        "store_grade = []\n",
        "for key  in result1.keys():\n",
        "  if key in grade.keys():\n",
        "    store_grade.append(grade[key])\n",
        "\n",
        "store_grade"
      ],
      "execution_count": null,
      "outputs": [
        {
          "output_type": "execute_result",
          "data": {
            "text/plain": [
              "[167.5, 144.2, 140.0, 138.2, 133.3, 133.2, 125.4, 123.5, 112.6, 109.7]"
            ]
          },
          "metadata": {
            "tags": []
          },
          "execution_count": 6
        }
      ]
    },
    {
      "cell_type": "code",
      "metadata": {
        "id": "b5ojw8aNRiJz",
        "outputId": "bfbeaee1-478e-4eb2-b1a6-f076997a1e74",
        "colab": {
          "base_uri": "https://localhost:8080/",
          "height": 34
        }
      },
      "source": [
        "average = sum(store_grade)/len(store_grade)\n",
        "average"
      ],
      "execution_count": null,
      "outputs": [
        {
          "output_type": "execute_result",
          "data": {
            "text/plain": [
              "132.76000000000002"
            ]
          },
          "metadata": {
            "tags": []
          },
          "execution_count": 7
        }
      ]
    },
    {
      "cell_type": "code",
      "metadata": {
        "id": "k1_g8B9_9_pp",
        "outputId": "6816470f-7f42-4624-cb5a-82602d46901c",
        "colab": {
          "base_uri": "https://localhost:8080/",
          "height": 34
        }
      },
      "source": [
        "#what is the minimum grade in gestao?\n",
        "min(store_grade)"
      ],
      "execution_count": null,
      "outputs": [
        {
          "output_type": "execute_result",
          "data": {
            "text/plain": [
              "109.7"
            ]
          },
          "metadata": {
            "tags": []
          },
          "execution_count": 8
        }
      ]
    },
    {
      "cell_type": "code",
      "metadata": {
        "id": "TJDAV7Bn-CYA",
        "outputId": "164750dd-09c5-4468-a089-840f4e1f45aa",
        "colab": {
          "base_uri": "https://localhost:8080/",
          "height": 34
        }
      },
      "source": [
        "#what is the maximum grade in gestao?\n",
        "max(store_grade)"
      ],
      "execution_count": null,
      "outputs": [
        {
          "output_type": "execute_result",
          "data": {
            "text/plain": [
              "167.5"
            ]
          },
          "metadata": {
            "tags": []
          },
          "execution_count": 9
        }
      ]
    }
  ]
}