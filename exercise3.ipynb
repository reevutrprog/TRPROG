{
  "nbformat": 4,
  "nbformat_minor": 0,
  "metadata": {
    "colab": {
      "name": "exercise3.ipynb",
      "provenance": [],
      "authorship_tag": "ABX9TyP7+8gOpvNbCG7lD+CSMHZK",
      "include_colab_link": true
    },
    "kernelspec": {
      "name": "python3",
      "display_name": "Python 3"
    }
  },
  "cells": [
    {
      "cell_type": "markdown",
      "metadata": {
        "id": "view-in-github",
        "colab_type": "text"
      },
      "source": [
        "<a href=\"https://colab.research.google.com/github/reevutrprog/TRPROG/blob/master/exercise3.ipynb\" target=\"_parent\"><img src=\"https://colab.research.google.com/assets/colab-badge.svg\" alt=\"Open In Colab\"/></a>"
      ]
    },
    {
      "cell_type": "markdown",
      "metadata": {
        "id": "iDvQXzo55xr2"
      },
      "source": [
        ""
      ]
    },
    {
      "cell_type": "markdown",
      "metadata": {
        "id": "PV0TT3DW5y-3"
      },
      "source": [
        "1) Create a list with sales considering the following assumptions:\n",
        "inicial valueSales =1000\n",
        "\n",
        "*   List item\n",
        "*   List item\n",
        "\n",
        "\n",
        "growth rate = 10%\n",
        "number of years = 6"
      ]
    },
    {
      "cell_type": "code",
      "metadata": {
        "id": "CBMDtsyW52T_",
        "outputId": "a6c8ada3-5d02-4515-a948-9fc093cf91e8",
        "colab": {
          "base_uri": "https://localhost:8080/",
          "height": 34
        }
      },
      "source": [
        "initialSales=1000\n",
        "growth_rate = 0.1\n",
        "numbYears=6\n",
        "sales=[]\n",
        "sales.append(initialSales)\n",
        "for year in range(1, numbYears):\n",
        "    sales.append(sales[year - 1] * (1 + growth_rate))\n",
        "    \n",
        "sales"
      ],
      "execution_count": null,
      "outputs": [
        {
          "output_type": "execute_result",
          "data": {
            "text/plain": [
              "[1000, 1100.0, 1210.0, 1331.0, 1464.1000000000001, 1610.5100000000002]"
            ]
          },
          "metadata": {
            "tags": []
          },
          "execution_count": 1
        }
      ]
    },
    {
      "cell_type": "markdown",
      "metadata": {
        "id": "pvjvciHx9ghu"
      },
      "source": [
        ""
      ]
    },
    {
      "cell_type": "markdown",
      "metadata": {
        "id": "qWwLDT9E7aec"
      },
      "source": [
        "\n",
        "2) Based on the previews list, create a list with costs knowing the profit margin:\n",
        "\n",
        "margin =70%"
      ]
    },
    {
      "cell_type": "code",
      "metadata": {
        "id": "5-eSWS2R7fKk",
        "outputId": "206f353b-b856-4666-d9bd-b38cfcea39cf",
        "colab": {
          "base_uri": "https://localhost:8080/",
          "height": 34
        }
      },
      "source": [
        "costs=[]\n",
        "margin = 0.7\n",
        "for  i in range(len(sales)):\n",
        "    costs.append(sales[i] - sales[i]*margin)\n",
        "\n",
        "costs"
      ],
      "execution_count": null,
      "outputs": [
        {
          "output_type": "execute_result",
          "data": {
            "text/plain": [
              "[300.0, 330.0, 363.0, 399.30000000000007, 439.23, 483.15300000000025]"
            ]
          },
          "metadata": {
            "tags": []
          },
          "execution_count": 2
        }
      ]
    },
    {
      "cell_type": "markdown",
      "metadata": {
        "id": "cX8H4kxL76iY"
      },
      "source": [
        "3) Create a list with the profit based on the last 2 exercises (profit = sales - cost)"
      ]
    },
    {
      "cell_type": "code",
      "metadata": {
        "id": "YhyggQ_m77go",
        "outputId": "f3acbffb-d042-4c60-c089-9ceca73a85fb",
        "colab": {
          "base_uri": "https://localhost:8080/",
          "height": 34
        }
      },
      "source": [
        "profit =[]\n",
        "for  i in range(len(sales)):\n",
        "    profit.append(sales[i]-costs[i])\n",
        "\n",
        "profit\n"
      ],
      "execution_count": null,
      "outputs": [
        {
          "output_type": "execute_result",
          "data": {
            "text/plain": [
              "[700.0, 770.0, 847.0, 931.6999999999999, 1024.8700000000001, 1127.357]"
            ]
          },
          "metadata": {
            "tags": []
          },
          "execution_count": 3
        }
      ]
    },
    {
      "cell_type": "code",
      "metadata": {
        "id": "Hyoc4axN8Bc4"
      },
      "source": [
        ""
      ],
      "execution_count": null,
      "outputs": []
    },
    {
      "cell_type": "markdown",
      "metadata": {
        "id": "b0zrDq718Bv4"
      },
      "source": [
        "4) Calculete a newProfit suposing 500 of fixed costs"
      ]
    },
    {
      "cell_type": "code",
      "metadata": {
        "id": "him9YfXt8CYx",
        "outputId": "de5b2203-0584-475e-eb43-cdf9abb00d03",
        "colab": {
          "base_uri": "https://localhost:8080/",
          "height": 34
        }
      },
      "source": [
        "totalCosts=[]\n",
        "margin = 0.7\n",
        "fixedCosts=500\n",
        "for  i in range(len(sales)):\n",
        "    totalCosts.append(sales[i]*margin-fixedCosts)\n",
        "totalCosts"
      ],
      "execution_count": null,
      "outputs": [
        {
          "output_type": "execute_result",
          "data": {
            "text/plain": [
              "[200.0, 270.0, 347.0, 431.69999999999993, 524.8700000000001, 627.357]"
            ]
          },
          "metadata": {
            "tags": []
          },
          "execution_count": 4
        }
      ]
    },
    {
      "cell_type": "markdown",
      "metadata": {
        "id": "bS7tiHdC8J8o"
      },
      "source": [
        "\n",
        "5) Create a newSales list with random generated values between 200 and 2000. Corresponding to volume of sales during a certainn numberOfYears.\n",
        "\n",
        "some ints:\n",
        "\n",
        "Import module, writing import random\n",
        "use the method random.randint(a, b). This method is used to generate values between a and b ( Return a random integer N such that a <= N <= b.):"
      ]
    },
    {
      "cell_type": "code",
      "metadata": {
        "id": "Iki9yLUN8M9I",
        "outputId": "45c0e7ec-9c3b-4322-9f32-f3cf6c9fe174",
        "colab": {
          "base_uri": "https://localhost:8080/",
          "height": 34
        }
      },
      "source": [
        "valueBeg=200\n",
        "valueEnd=2000\n",
        "numbYears=6\n",
        "newSales =[]\n",
        "import random\n",
        "for x in range(numbYears):\n",
        "    newSales.append(random.randint(valueBeg,valueEnd))\n",
        "newSales"
      ],
      "execution_count": null,
      "outputs": [
        {
          "output_type": "execute_result",
          "data": {
            "text/plain": [
              "[694, 1493, 1510, 834, 389, 1041]"
            ]
          },
          "metadata": {
            "tags": []
          },
          "execution_count": 5
        }
      ]
    },
    {
      "cell_type": "markdown",
      "metadata": {
        "id": "pJG6_LXs8SSy"
      },
      "source": [
        "6) Create a new list with profits (newProfit)"
      ]
    },
    {
      "cell_type": "code",
      "metadata": {
        "id": "MaOy0ixP8S_o",
        "outputId": "81a8c621-085e-4570-9ccd-a508205a42c6",
        "colab": {
          "base_uri": "https://localhost:8080/",
          "height": 121
        }
      },
      "source": [
        "newProfit =[]\n",
        "totalCosts=[]\n",
        "margin = 0.7\n",
        "fixedCosts=500\n",
        "for  i in range(len(newSales)):\n",
        "    newProfit.append(newSales[i]*margin-fixedCosts)\n",
        "newProfit"
      ],
      "execution_count": null,
      "outputs": [
        {
          "output_type": "execute_result",
          "data": {
            "text/plain": [
              "[-14.200000000000045,\n",
              " 545.0999999999999,\n",
              " 557.0,\n",
              " 83.79999999999995,\n",
              " -227.70000000000005,\n",
              " 228.69999999999993]"
            ]
          },
          "metadata": {
            "tags": []
          },
          "execution_count": 6
        }
      ]
    },
    {
      "cell_type": "markdown",
      "metadata": {
        "id": "P4XJxHIfV9xI"
      },
      "source": [
        "7) What is the percentage of years having profits in the total."
      ]
    },
    {
      "cell_type": "code",
      "metadata": {
        "id": "-PAr4tLwWBz6",
        "outputId": "4cde9454-c777-4586-e3c2-522b4feb33f6",
        "colab": {
          "base_uri": "https://localhost:8080/",
          "height": 139
        }
      },
      "source": [
        "prof=0\n",
        "for  i in range(len(newProfit)):\n",
        "    print(i)\n",
        "    if newProfit[i]>0:\n",
        "        prof+=1\n",
        "number=prof/len(newProfit)\n",
        "print ('{0:.0%}'.format(number))"
      ],
      "execution_count": null,
      "outputs": [
        {
          "output_type": "stream",
          "text": [
            "0\n",
            "1\n",
            "2\n",
            "3\n",
            "4\n",
            "5\n",
            "67%\n"
          ],
          "name": "stdout"
        }
      ]
    },
    {
      "cell_type": "markdown",
      "metadata": {
        "id": "ErLaB3GmWHQO"
      },
      "source": [
        "\n",
        "\n",
        "8) Plot the sales and the newSales (generated randomly) throughout the years.\n"
      ]
    },
    {
      "cell_type": "code",
      "metadata": {
        "id": "ju-ZJ1xMWLqa",
        "outputId": "68c29ef7-c096-440a-c17a-e2a8045ad5fb",
        "colab": {
          "base_uri": "https://localhost:8080/",
          "height": 279
        }
      },
      "source": [
        "import matplotlib.pyplot as plt\n",
        "plt.plot(sales)\n",
        "plt.plot(newSales)\n",
        "plt.ylabel('sales')\n",
        "plt.xlabel('years')\n",
        "plt.show()"
      ],
      "execution_count": null,
      "outputs": [
        {
          "output_type": "display_data",
          "data": {
            "image/png": "[encoded data removed]",
            "text/plain": [
              "<Figure size 432x288 with 1 Axes>"
            ]
          },
          "metadata": {
            "tags": [],
            "needs_background": "light"
          }
        }
      ]
    }
  ]
}