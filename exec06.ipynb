{
  "nbformat": 4,
  "nbformat_minor": 0,
  "metadata": {
    "kernelspec": {
      "display_name": "Python 3",
      "language": "python",
      "name": "python3"
    },
    "language_info": {
      "codemirror_mode": {
        "name": "ipython",
        "version": 3
      },
      "file_extension": ".py",
      "mimetype": "text/x-python",
      "name": "python",
      "nbconvert_exporter": "python",
      "pygments_lexer": "ipython3",
      "version": "3.7.6"
    },
    "colab": {
      "name": "exec06.ipynb",
      "provenance": [],
      "include_colab_link": true
    }
  },
  "cells": [
    {
      "cell_type": "markdown",
      "metadata": {
        "id": "view-in-github",
        "colab_type": "text"
      },
      "source": [
        "<a href=\"https://colab.research.google.com/github/reevutrprog/TRPROG/blob/master/exec06.ipynb\" target=\"_parent\"><img src=\"https://colab.research.google.com/assets/colab-badge.svg\" alt=\"Open In Colab\"/></a>"
      ]
    },
    {
      "cell_type": "markdown",
      "metadata": {
        "id": "2U_cCEIJ5XvI"
      },
      "source": [
        "## Exercise 6##\n"
      ]
    },
    {
      "cell_type": "markdown",
      "metadata": {
        "id": "lJY3oC4A5XvO"
      },
      "source": [
        "A function can call other functions. "
      ]
    },
    {
      "cell_type": "markdown",
      "metadata": {
        "id": "6ZQa57qn5XvR"
      },
      "source": [
        "Create function that calculate squares. Call it square. Having just one parameter. \n",
        "    "
      ]
    },
    {
      "cell_type": "code",
      "metadata": {
        "id": "GPO9BVYj5XvV",
        "outputId": "3337a06f-54ed-41d7-81ab-cb4042614d25",
        "colab": {
          "base_uri": "https://localhost:8080/"
        }
      },
      "source": [
        "def squares(num):\n",
        "  return num**2\n",
        "squares(4)"
      ],
      "execution_count": null,
      "outputs": [
        {
          "output_type": "execute_result",
          "data": {
            "text/plain": [
              "16"
            ]
          },
          "metadata": {
            "tags": []
          },
          "execution_count": 1
        }
      ]
    },
    {
      "cell_type": "markdown",
      "metadata": {
        "id": "_tRy6BMk5Xvs"
      },
      "source": [
        "Create function that calculate sume of squares, using previsou function call it SumofSquares(), \n",
        "with a parameter def ListValues.  \n"
      ]
    },
    {
      "cell_type": "code",
      "metadata": {
        "id": "S7hSCaOA5Xvv"
      },
      "source": [
        "def SumofSquares(list1):\n",
        "  sum = 0\n",
        "  for i in range(len(list1)):\n",
        "    sum = sum + squares(list1[i])\n",
        "  return sum\n"
      ],
      "execution_count": null,
      "outputs": []
    },
    {
      "cell_type": "markdown",
      "metadata": {
        "id": "9OPEMAwr5Xv8"
      },
      "source": [
        "Call the fucntion using the follwoing data"
      ]
    },
    {
      "cell_type": "code",
      "metadata": {
        "id": "q2d8BjEd5Xv_",
        "outputId": "b6e23673-e94e-4beb-f264-88e56c61c3d6",
        "colab": {
          "base_uri": "https://localhost:8080/"
        }
      },
      "source": [
        "listValues=[2,4,1,5]\n",
        "SumofSquares(listValues) \n",
        "\n"
      ],
      "execution_count": null,
      "outputs": [
        {
          "output_type": "execute_result",
          "data": {
            "text/plain": [
              "46"
            ]
          },
          "metadata": {
            "tags": []
          },
          "execution_count": 9
        }
      ]
    },
    {
      "cell_type": "markdown",
      "metadata": {
        "id": "rbFjuk6J5XwL"
      },
      "source": [
        "It is even possible for the function to call itself. \n",
        "These types of construct are termed as recursive functions."
      ]
    },
    {
      "cell_type": "markdown",
      "metadata": {
        "id": "yXXqbJWx5XwO"
      },
      "source": [
        "Create a factorial function without recursion:"
      ]
    },
    {
      "cell_type": "code",
      "metadata": {
        "id": "lnyHvVsB5XwP",
        "outputId": "58699c54-d987-4573-c5bc-5640f0c8ec49",
        "colab": {
          "base_uri": "https://localhost:8080/"
        }
      },
      "source": [
        "def factorial1(num):\n",
        "  fact = 1\n",
        "  for i in range(1,num+1):\n",
        "    fact = fact*i\n",
        "  return fact\n",
        "factorial1(1000)"
      ],
      "execution_count": 13,
      "outputs": [
        {
          "output_type": "execute_result",
          "data": {
            "text/plain": [
              "402387260077093773543702433923003985719374864210714632543799910429938512398629020592044208486969404800479988610197196058631666872994808558901323829669944590997424504087073759918823627727188732519779505950995276120874975462497043601418278094646496291056393887437886487337119181045825783647849977012476632889835955735432513185323958463075557409114262417474349347553428646576611667797396668820291207379143853719588249808126867838374559731746136085379534524221586593201928090878297308431392844403281231558611036976801357304216168747609675871348312025478589320767169132448426236131412508780208000261683151027341827977704784635868170164365024153691398281264810213092761244896359928705114964975419909342221566832572080821333186116811553615836546984046708975602900950537616475847728421889679646244945160765353408198901385442487984959953319101723355556602139450399736280750137837615307127761926849034352625200015888535147331611702103968175921510907788019393178114194545257223865541461062892187960223838971476088506276862967146674697562911234082439208160153780889893964518263243671616762179168909779911903754031274622289988005195444414282012187361745992642956581746628302955570299024324153181617210465832036786906117260158783520751516284225540265170483304226143974286933061690897968482590125458327168226458066526769958652682272807075781391858178889652208164348344825993266043367660176999612831860788386150279465955131156552036093988180612138558600301435694527224206344631797460594682573103790084024432438465657245014402821885252470935190620929023136493273497565513958720559654228749774011413346962715422845862377387538230483865688976461927383814900140767310446640259899490222221765904339901886018566526485061799702356193897017860040811889729918311021171229845901641921068884387121855646124960798722908519296819372388642614839657382291123125024186649353143970137428531926649875337218940694281434118520158014123344828015051399694290153483077644569099073152433278288269864602789864321139083506217095002597389863554277196742822248757586765752344220207573630569498825087968928162753848863396909959826280956121450994871701244516461260379029309120889086942028510640182154399457156805941872748998094254742173582401063677404595741785160829230135358081840096996372524230560855903700624271243416909004153690105933983835777939410970027753472000000000000000000000000000000000000000000000000000000000000000000000000000000000000000000000000000000000000000000000000000000000000000000000000000000000000000000000000000000000000000000000000000000000000000000000000000000000000000000000000000000000"
            ]
          },
          "metadata": {
            "tags": []
          },
          "execution_count": 13
        }
      ]
    },
    {
      "cell_type": "code",
      "metadata": {
        "id": "ulUsNSk15XwZ"
      },
      "source": [
        ""
      ],
      "execution_count": null,
      "outputs": []
    },
    {
      "cell_type": "markdown",
      "metadata": {
        "id": "L6mfNPow5Xwl"
      },
      "source": [
        "Now the factorial function but using recursion"
      ]
    },
    {
      "cell_type": "code",
      "metadata": {
        "id": "VD7-Onda5Xwm",
        "outputId": "c71eda25-8525-4092-95b4-467240538fef",
        "colab": {
          "base_uri": "https://localhost:8080/"
        }
      },
      "source": [
        "def factorial(x):\n",
        "    if x == 1 or x==0:\n",
        "        return 1\n",
        "    elif x < 0:\n",
        "        return 0\n",
        "    else:\n",
        "        return (x * factorial(x-1))\n",
        "factorial(4)"
      ],
      "execution_count": 18,
      "outputs": [
        {
          "output_type": "execute_result",
          "data": {
            "text/plain": [
              "24"
            ]
          },
          "metadata": {
            "tags": []
          },
          "execution_count": 18
        }
      ]
    },
    {
      "cell_type": "markdown",
      "metadata": {
        "id": "XJv20hOO5Xwt"
      },
      "source": [
        "Advantages \n",
        "* Complex task can be splited into smaller (and less complex) subtasks\n",
        "* Using recursion in sequence generation is esear that nested iteration\n",
        "* The code look clean and elegant.\n",
        "\n",
        "Disadvantages\n",
        "* Uses large ammont of memory and time.\n",
        "* Not easy to undertand logic of the code\n",
        "* Hard to debug.\n"
      ]
    },
    {
      "cell_type": "code",
      "metadata": {
        "id": "Z0CzTi2Z5Xww"
      },
      "source": [
        ""
      ],
      "execution_count": null,
      "outputs": []
    }
  ]
}