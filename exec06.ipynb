{
  "nbformat": 4,
  "nbformat_minor": 0,
  "metadata": {
    "kernelspec": {
      "display_name": "Python 3",
      "language": "python",
      "name": "python3"
    },
    "language_info": {
      "codemirror_mode": {
        "name": "ipython",
        "version": 3
      },
      "file_extension": ".py",
      "mimetype": "text/x-python",
      "name": "python",
      "nbconvert_exporter": "python",
      "pygments_lexer": "ipython3",
      "version": "3.7.6"
    },
    "colab": {
      "name": "exec06.ipynb",
      "provenance": [],
      "include_colab_link": true
    }
  },
  "cells": [
    {
      "cell_type": "markdown",
      "metadata": {
        "id": "view-in-github",
        "colab_type": "text"
      },
      "source": [
        "<a href=\"https://colab.research.google.com/github/reevutrprog/TRPROG/blob/master/exec06.ipynb\" target=\"_parent\"><img src=\"https://colab.research.google.com/assets/colab-badge.svg\" alt=\"Open In Colab\"/></a>"
      ]
    },
    {
      "cell_type": "markdown",
      "metadata": {
        "id": "2U_cCEIJ5XvI"
      },
      "source": [
        "## Exercise 6##\n"
      ]
    },
    {
      "cell_type": "markdown",
      "metadata": {
        "id": "lJY3oC4A5XvO"
      },
      "source": [
        "A function can call other functions. "
      ]
    },
    {
      "cell_type": "markdown",
      "metadata": {
        "id": "6ZQa57qn5XvR"
      },
      "source": [
        "Create function that calculate squares. Call it square. Having just one parameter. \n",
        "    "
      ]
    },
    {
      "cell_type": "code",
      "metadata": {
        "id": "GPO9BVYj5XvV",
        "outputId": "3337a06f-54ed-41d7-81ab-cb4042614d25",
        "colab": {
          "base_uri": "https://localhost:8080/"
        }
      },
      "source": [
        "def squares(num):\n",
        "  return num**2\n",
        "squares(4)"
      ],
      "execution_count": 1,
      "outputs": [
        {
          "output_type": "execute_result",
          "data": {
            "text/plain": [
              "16"
            ]
          },
          "metadata": {
            "tags": []
          },
          "execution_count": 1
        }
      ]
    },
    {
      "cell_type": "markdown",
      "metadata": {
        "id": "_tRy6BMk5Xvs"
      },
      "source": [
        "Create function that calculate sume of squares, using previsou function call it SumofSquares(), \n",
        "with a parameter def ListValues.  \n"
      ]
    },
    {
      "cell_type": "code",
      "metadata": {
        "id": "S7hSCaOA5Xvv"
      },
      "source": [
        "def SumofSquares(list1):\n",
        "  sum = 0\n",
        "  for i in range(len(list1)):\n",
        "    sum = sum + (list1[i])**2\n",
        "  return sum\n"
      ],
      "execution_count": 4,
      "outputs": []
    },
    {
      "cell_type": "markdown",
      "metadata": {
        "id": "9OPEMAwr5Xv8"
      },
      "source": [
        "Call the fucntion using the follwoing data"
      ]
    },
    {
      "cell_type": "code",
      "metadata": {
        "id": "q2d8BjEd5Xv_",
        "outputId": "5313e24e-cff4-424e-8389-2f30167706d3",
        "colab": {
          "base_uri": "https://localhost:8080/"
        }
      },
      "source": [
        "listValues=[2,4,1,5]\n",
        "SumofSquares(listValues) \n",
        "\n"
      ],
      "execution_count": 5,
      "outputs": [
        {
          "output_type": "execute_result",
          "data": {
            "text/plain": [
              "46"
            ]
          },
          "metadata": {
            "tags": []
          },
          "execution_count": 5
        }
      ]
    },
    {
      "cell_type": "markdown",
      "metadata": {
        "id": "rbFjuk6J5XwL"
      },
      "source": [
        "It is even possible for the function to call itself. \n",
        "These types of construct are termed as recursive functions."
      ]
    },
    {
      "cell_type": "markdown",
      "metadata": {
        "id": "yXXqbJWx5XwO"
      },
      "source": [
        "Create a factorial function without recursion:"
      ]
    },
    {
      "cell_type": "code",
      "metadata": {
        "id": "lnyHvVsB5XwP",
        "outputId": "3b8c9923-e773-4f33-ebdb-d4618cfc17a6",
        "colab": {
          "base_uri": "https://localhost:8080/"
        }
      },
      "source": [
        "def factorial1(num):\n",
        "  fact = 1\n",
        "  for i in range(1,num+1):\n",
        "    fact = fact*i\n",
        "  return fact\n",
        "factorial1(6)"
      ],
      "execution_count": 6,
      "outputs": [
        {
          "output_type": "execute_result",
          "data": {
            "text/plain": [
              "720"
            ]
          },
          "metadata": {
            "tags": []
          },
          "execution_count": 6
        }
      ]
    },
    {
      "cell_type": "code",
      "metadata": {
        "id": "ulUsNSk15XwZ"
      },
      "source": [
        ""
      ],
      "execution_count": null,
      "outputs": []
    },
    {
      "cell_type": "markdown",
      "metadata": {
        "id": "L6mfNPow5Xwl"
      },
      "source": [
        "Now the factorial function but using recursion"
      ]
    },
    {
      "cell_type": "code",
      "metadata": {
        "id": "VD7-Onda5Xwm",
        "outputId": "aff6eddb-656b-41f6-cbe1-75ae08a71be8",
        "colab": {
          "base_uri": "https://localhost:8080/"
        }
      },
      "source": [
        "def factorial(x):\n",
        "    if x == 1:\n",
        "        return 1\n",
        "    else:\n",
        "        return (x * factorial(x-1))\n",
        "factorial(5)"
      ],
      "execution_count": 7,
      "outputs": [
        {
          "output_type": "execute_result",
          "data": {
            "text/plain": [
              "120"
            ]
          },
          "metadata": {
            "tags": []
          },
          "execution_count": 7
        }
      ]
    },
    {
      "cell_type": "markdown",
      "metadata": {
        "id": "XJv20hOO5Xwt"
      },
      "source": [
        "Advantages \n",
        "* Complex task can be splited into smaller (and less complex) subtasks\n",
        "* Using recursion in sequence generation is esear that nested iteration\n",
        "* The code look clean and elegant.\n",
        "\n",
        "Disadvantages\n",
        "* Uses large ammont of memory and time.\n",
        "* Not easy to undertand logic of the code\n",
        "* Hard to debug.\n"
      ]
    },
    {
      "cell_type": "code",
      "metadata": {
        "id": "Z0CzTi2Z5Xww"
      },
      "source": [
        ""
      ],
      "execution_count": null,
      "outputs": []
    }
  ]
}