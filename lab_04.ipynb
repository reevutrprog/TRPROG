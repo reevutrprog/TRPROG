{
  "nbformat": 4,
  "nbformat_minor": 0,
  "metadata": {
    "colab": {
      "name": "lab 04.ipynb",
      "provenance": [],
      "authorship_tag": "ABX9TyPFK1Zh/a5C0nlzIl3f8bv6",
      "include_colab_link": true
    },
    "kernelspec": {
      "name": "python3",
      "display_name": "Python 3"
    }
  },
  "cells": [
    {
      "cell_type": "markdown",
      "metadata": {
        "id": "view-in-github",
        "colab_type": "text"
      },
      "source": [
        "<a href=\"https://colab.research.google.com/github/reevutrprog/TRPROG/blob/master/lab_04.ipynb\" target=\"_parent\"><img src=\"https://colab.research.google.com/assets/colab-badge.svg\" alt=\"Open In Colab\"/></a>"
      ]
    },
    {
      "cell_type": "markdown",
      "metadata": {
        "id": "3Fry6l6zWvbI"
      },
      "source": [
        "How to verify if a number is a possible credit card number?In order to verify the check digit is correct, verify the following steps:\n",
        "\n",
        "\n",
        "*   Supose the following number=\"5105105105105100\".\n",
        "*   Convert the number into a list\n",
        "*   Reverse the List\n",
        "*   Starting from the left digit, double every second digit.\n",
        "*   If double of a digit is more than 9, add the digits.\n",
        "*   Sum all the numbers except the first one multiply by 9 and remove the unit\n",
        "\n",
        "\n",
        "\n",
        "\n",
        "\n",
        "\n",
        "\n",
        "\n",
        "\n",
        "\n"
      ]
    },
    {
      "cell_type": "code",
      "metadata": {
        "id": "VwLCrhOFXgqC"
      },
      "source": [
        "#Start by converting the number into a list\n",
        "credit_card_number=\"5105105105105100\""
      ],
      "execution_count": null,
      "outputs": []
    },
    {
      "cell_type": "code",
      "metadata": {
        "id": "Zg6NGtYcYELx",
        "outputId": "9640a601-3b77-4303-f00c-4dcb4109dd29",
        "colab": {
          "base_uri": "https://localhost:8080/",
          "height": 283
        }
      },
      "source": [
        "#convert a number into a list\n",
        "numberList=[char for char in credit_card_number]\n",
        "numberList"
      ],
      "execution_count": null,
      "outputs": [
        {
          "output_type": "execute_result",
          "data": {
            "text/plain": [
              "['5',\n",
              " '1',\n",
              " '0',\n",
              " '5',\n",
              " '1',\n",
              " '0',\n",
              " '5',\n",
              " '1',\n",
              " '0',\n",
              " '5',\n",
              " '1',\n",
              " '0',\n",
              " '5',\n",
              " '1',\n",
              " '0',\n",
              " '0']"
            ]
          },
          "metadata": {
            "tags": []
          },
          "execution_count": 4
        }
      ]
    },
    {
      "cell_type": "code",
      "metadata": {
        "id": "1l6JLbpuYM9m",
        "outputId": "1ecc1359-4b0a-4f1f-ce12-bb3361925948",
        "colab": {
          "base_uri": "https://localhost:8080/",
          "height": 33
        }
      },
      "source": [
        "#Convert stings into integers\n",
        "numberList=[int (x) for x in numberList]\n",
        "numberList"
      ],
      "execution_count": null,
      "outputs": [
        {
          "output_type": "execute_result",
          "data": {
            "text/plain": [
              "[5, 1, 0, 5, 1, 0, 5, 1, 0, 5, 1, 0, 5, 1, 0, 0]"
            ]
          },
          "metadata": {
            "tags": []
          },
          "execution_count": 5
        }
      ]
    },
    {
      "cell_type": "code",
      "metadata": {
        "id": "abss_kPCmToD",
        "outputId": "bbbb9599-a07f-4c5b-c73d-eea1534a3fc9",
        "colab": {
          "base_uri": "https://localhost:8080/",
          "height": 33
        }
      },
      "source": [
        "numberList.reverse()\n",
        "numberList"
      ],
      "execution_count": null,
      "outputs": [
        {
          "output_type": "execute_result",
          "data": {
            "text/plain": [
              "[5, 1, 0, 5, 1, 0, 5, 1, 0, 5, 1, 0, 5, 1, 0, 0]"
            ]
          },
          "metadata": {
            "tags": []
          },
          "execution_count": 11
        }
      ]
    },
    {
      "cell_type": "code",
      "metadata": {
        "id": "moRzuA4KYVMy",
        "outputId": "e37e910a-79f2-450f-c6ab-099da164de28",
        "colab": {
          "base_uri": "https://localhost:8080/",
          "height": 34
        }
      },
      "source": [
        "# Starting from the left digit, double every second digit.\n",
        "numberList2 =[]\n",
        "for i in range(len(numberList)):\n",
        "    if (i%2==0):\n",
        "        numberList2.append(numberList[i])\n",
        "    else:\n",
        "        numberList2.append(numberList[i]*2)\n",
        "\n",
        "numberList2"
      ],
      "execution_count": null,
      "outputs": [
        {
          "output_type": "execute_result",
          "data": {
            "text/plain": [
              "[5, 2, 0, 10, 1, 0, 5, 2, 0, 10, 1, 0, 5, 2, 0, 0]"
            ]
          },
          "metadata": {
            "tags": []
          },
          "execution_count": 5
        }
      ]
    },
    {
      "cell_type": "code",
      "metadata": {
        "id": "gWdF6i0WYiXI"
      },
      "source": [
        "# If double of a digit is more then 9, add the digits.\n",
        "numberList3=[]\n",
        "for value in numberList2:\n",
        "    if value>9:\n",
        "        numberList3.append(1+value-10)\n",
        "    else:\n",
        "        numberList3.append(value)"
      ],
      "execution_count": null,
      "outputs": []
    },
    {
      "cell_type": "code",
      "metadata": {
        "id": "Da8ZUlW4YrYG",
        "outputId": "0eadf15b-b6f5-4c9f-b095-7e1d64b335f3",
        "colab": {
          "base_uri": "https://localhost:8080/",
          "height": 34
        }
      },
      "source": [
        "numberList3"
      ],
      "execution_count": null,
      "outputs": [
        {
          "output_type": "execute_result",
          "data": {
            "text/plain": [
              "[5, 2, 0, 1, 1, 0, 5, 2, 0, 1, 1, 0, 5, 2, 0, 0]"
            ]
          },
          "metadata": {
            "tags": []
          },
          "execution_count": 7
        }
      ]
    },
    {
      "cell_type": "code",
      "metadata": {
        "id": "muttq0L4Yv3x",
        "outputId": "817953c5-1f34-44b1-b226-66d5984253e3",
        "colab": {
          "base_uri": "https://localhost:8080/",
          "height": 34
        }
      },
      "source": [
        "# Sum all the numbers except the first one\n",
        "total=sum(numberList3)-numberList3[0]\n",
        "total"
      ],
      "execution_count": null,
      "outputs": [
        {
          "output_type": "execute_result",
          "data": {
            "text/plain": [
              "20"
            ]
          },
          "metadata": {
            "tags": []
          },
          "execution_count": 8
        }
      ]
    },
    {
      "cell_type": "code",
      "metadata": {
        "id": "uylut5bmYzpV",
        "outputId": "95855f84-cee6-4663-9216-2d376116bde6",
        "colab": {
          "base_uri": "https://localhost:8080/",
          "height": 34
        }
      },
      "source": [
        "# multiply by 9 and remove the unit\n",
        "total*9%10\n",
        "\n"
      ],
      "execution_count": null,
      "outputs": [
        {
          "output_type": "execute_result",
          "data": {
            "text/plain": [
              "0"
            ]
          },
          "metadata": {
            "tags": []
          },
          "execution_count": 9
        }
      ]
    }
  ]
}