{
  "nbformat": 4,
  "nbformat_minor": 0,
  "metadata": {
    "kernelspec": {
      "display_name": "Python 3",
      "language": "python",
      "name": "python3"
    },
    "language_info": {
      "codemirror_mode": {
        "name": "ipython",
        "version": 3
      },
      "file_extension": ".py",
      "mimetype": "text/x-python",
      "name": "python",
      "nbconvert_exporter": "python",
      "pygments_lexer": "ipython3",
      "version": "3.7.0"
    },
    "colab": {
      "name": "Lab08.ipynb",
      "provenance": [],
      "include_colab_link": true
    }
  },
  "cells": [
    {
      "cell_type": "markdown",
      "metadata": {
        "id": "view-in-github",
        "colab_type": "text"
      },
      "source": [
        "<a href=\"https://colab.research.google.com/github/reevutrprog/TRPROG/blob/master/Lab08.ipynb\" target=\"_parent\"><img src=\"https://colab.research.google.com/assets/colab-badge.svg\" alt=\"Open In Colab\"/></a>"
      ]
    },
    {
      "cell_type": "markdown",
      "metadata": {
        "id": "Oh-yMgU1FE2O"
      },
      "source": [
        "## Lab 08 ##\n",
        "\n",
        "How does intelligence and education impact the level of income?\n",
        "\n",
        "In order to estimate a regression, import the statsmodels module (https://www.statsmodels.org):\n",
        "\n",
        "`\n",
        "import statsmodels.api as sm\n",
        "model = sm.OLS(y, X).fit()\n",
        "predictions = model.predict(X) \n",
        "model.summary()\n",
        "`\n",
        "* y may be a series with data corresponding to the target (or dependent variable)\n",
        "* X may be a dataframe with data corresponding to the features (or independent variable)\n",
        "\n",
        "Note: Information related to IQ level is not validated. Data were obtained from the Internet. On the other hand, IQ is culturally biased, and values correspond to average\n",
        "\n",
        "dataFile='https://github.com/masterfloss/data/blob/main/exerciseInt.xlsx?raw=true'\n",
        "\n",
        "1. Read data and analyse it.\n",
        "\n",
        "2. Create a regression, where y is the Income, and all the others are features of the model.\n",
        "\n",
        "3. Analise output\n",
        "\n",
        "4. Create another repression, where y is the Income. IQ and 'Education expenditure per capita' are features of the model.\n",
        "\n",
        "5. Analyse relationship between Income and each one of the features using skatter plot.\n"
      ]
    },
    {
      "cell_type": "code",
      "metadata": {
        "id": "LxmqVt3FFE2P",
        "colab": {
          "base_uri": "https://localhost:8080/",
          "height": 424
        },
        "outputId": "6f59f285-c69b-4a51-b764-bb101db9e761"
      },
      "source": [
        "import statsmodels.api as sm\n",
        "import pandas as pd\n",
        "import numpy as np\n",
        "import seaborn as sns\n",
        "\n",
        "file1 = r'https://github.com/masterfloss/data/blob/main/exerciseInt.xlsx?raw=true'\n",
        "df = pd.read_excel(file1)\n",
        "df.replace([np.inf, -np.inf], np.nan, inplace=True) \n",
        "df.dropna(inplace=True)\n",
        "df\n",
        "\n"
      ],
      "execution_count": 12,
      "outputs": [
        {
          "output_type": "execute_result",
          "data": {
            "text/html": [
              "<div>\n",
              "<style scoped>\n",
              "    .dataframe tbody tr th:only-of-type {\n",
              "        vertical-align: middle;\n",
              "    }\n",
              "\n",
              "    .dataframe tbody tr th {\n",
              "        vertical-align: top;\n",
              "    }\n",
              "\n",
              "    .dataframe thead th {\n",
              "        text-align: right;\n",
              "    }\n",
              "</style>\n",
              "<table border=\"1\" class=\"dataframe\">\n",
              "  <thead>\n",
              "    <tr style=\"text-align: right;\">\n",
              "      <th></th>\n",
              "      <th>country</th>\n",
              "      <th>IQ</th>\n",
              "      <th>Education expenditures per capita</th>\n",
              "      <th>quality of Life</th>\n",
              "      <th>BMI female</th>\n",
              "      <th>BMI male</th>\n",
              "      <th>Income</th>\n",
              "    </tr>\n",
              "  </thead>\n",
              "  <tbody>\n",
              "    <tr>\n",
              "      <th>0</th>\n",
              "      <td>Afghanistan</td>\n",
              "      <td>80</td>\n",
              "      <td>13.0</td>\n",
              "      <td>35.0</td>\n",
              "      <td>22.6</td>\n",
              "      <td>24.0</td>\n",
              "      <td>340.0</td>\n",
              "    </tr>\n",
              "    <tr>\n",
              "      <th>1</th>\n",
              "      <td>Albania</td>\n",
              "      <td>84</td>\n",
              "      <td>55.0</td>\n",
              "      <td>55.0</td>\n",
              "      <td>27.0</td>\n",
              "      <td>26.4</td>\n",
              "      <td>1690.0</td>\n",
              "    </tr>\n",
              "    <tr>\n",
              "      <th>2</th>\n",
              "      <td>Algeria</td>\n",
              "      <td>82</td>\n",
              "      <td>109.0</td>\n",
              "      <td>52.0</td>\n",
              "      <td>24.7</td>\n",
              "      <td>26.5</td>\n",
              "      <td>2325.0</td>\n",
              "    </tr>\n",
              "    <tr>\n",
              "      <th>3</th>\n",
              "      <td>Argentina</td>\n",
              "      <td>90</td>\n",
              "      <td>278.0</td>\n",
              "      <td>59.0</td>\n",
              "      <td>27.9</td>\n",
              "      <td>27.6</td>\n",
              "      <td>6345.0</td>\n",
              "    </tr>\n",
              "    <tr>\n",
              "      <th>4</th>\n",
              "      <td>Australia</td>\n",
              "      <td>99</td>\n",
              "      <td>1388.0</td>\n",
              "      <td>79.0</td>\n",
              "      <td>27.7</td>\n",
              "      <td>26.8</td>\n",
              "      <td>25665.0</td>\n",
              "    </tr>\n",
              "    <tr>\n",
              "      <th>...</th>\n",
              "      <td>...</td>\n",
              "      <td>...</td>\n",
              "      <td>...</td>\n",
              "      <td>...</td>\n",
              "      <td>...</td>\n",
              "      <td>...</td>\n",
              "      <td>...</td>\n",
              "    </tr>\n",
              "    <tr>\n",
              "      <th>104</th>\n",
              "      <td>United Kingdom</td>\n",
              "      <td>100</td>\n",
              "      <td>1443.0</td>\n",
              "      <td>65.0</td>\n",
              "      <td>27.4</td>\n",
              "      <td>27.1</td>\n",
              "      <td>30986.0</td>\n",
              "    </tr>\n",
              "    <tr>\n",
              "      <th>105</th>\n",
              "      <td>United States</td>\n",
              "      <td>98</td>\n",
              "      <td>1909.0</td>\n",
              "      <td>72.0</td>\n",
              "      <td>29.0</td>\n",
              "      <td>29.0</td>\n",
              "      <td>36470.0</td>\n",
              "    </tr>\n",
              "    <tr>\n",
              "      <th>106</th>\n",
              "      <td>Uruguay</td>\n",
              "      <td>93</td>\n",
              "      <td>154.0</td>\n",
              "      <td>66.0</td>\n",
              "      <td>27.3</td>\n",
              "      <td>27.4</td>\n",
              "      <td>5854.0</td>\n",
              "    </tr>\n",
              "    <tr>\n",
              "      <th>107</th>\n",
              "      <td>Venezuela</td>\n",
              "      <td>85</td>\n",
              "      <td>241.0</td>\n",
              "      <td>32.0</td>\n",
              "      <td>26.7</td>\n",
              "      <td>26.9</td>\n",
              "      <td>4812.0</td>\n",
              "    </tr>\n",
              "    <tr>\n",
              "      <th>108</th>\n",
              "      <td>Vietnam</td>\n",
              "      <td>94</td>\n",
              "      <td>26.0</td>\n",
              "      <td>53.0</td>\n",
              "      <td>21.7</td>\n",
              "      <td>21.7</td>\n",
              "      <td>481.0</td>\n",
              "    </tr>\n",
              "  </tbody>\n",
              "</table>\n",
              "<p>99 rows × 7 columns</p>\n",
              "</div>"
            ],
            "text/plain": [
              "            country   IQ  ...  BMI male   Income\n",
              "0       Afghanistan   80  ...      24.0    340.0\n",
              "1           Albania   84  ...      26.4   1690.0\n",
              "2           Algeria   82  ...      26.5   2325.0\n",
              "3         Argentina   90  ...      27.6   6345.0\n",
              "4         Australia   99  ...      26.8  25665.0\n",
              "..              ...  ...  ...       ...      ...\n",
              "104  United Kingdom  100  ...      27.1  30986.0\n",
              "105   United States   98  ...      29.0  36470.0\n",
              "106         Uruguay   93  ...      27.4   5854.0\n",
              "107       Venezuela   85  ...      26.9   4812.0\n",
              "108         Vietnam   94  ...      21.7    481.0\n",
              "\n",
              "[99 rows x 7 columns]"
            ]
          },
          "metadata": {
            "tags": []
          },
          "execution_count": 12
        }
      ]
    },
    {
      "cell_type": "code",
      "metadata": {
        "colab": {
          "base_uri": "https://localhost:8080/"
        },
        "id": "6c1aQ2pGKFoe",
        "outputId": "1d0d250a-3b8a-4624-d869-d70f286dfd1a"
      },
      "source": [
        "#model1\n",
        "X = df[['IQ','Education expenditures per capita','quality of Life','BMI female','BMI male']]\n",
        "Y = df['Income']\n",
        "\n",
        "model = sm.OLS(Y,X).fit()\n",
        "predictions = model.predict(X) \n",
        "print_model = model.summary()\n",
        "print(print_model)\n"
      ],
      "execution_count": null,
      "outputs": [
        {
          "output_type": "stream",
          "text": [
            "                                 OLS Regression Results                                \n",
            "=======================================================================================\n",
            "Dep. Variable:                 Income   R-squared (uncentered):                   0.906\n",
            "Model:                            OLS   Adj. R-squared (uncentered):              0.901\n",
            "Method:                 Least Squares   F-statistic:                              180.8\n",
            "Date:                Wed, 18 Nov 2020   Prob (F-statistic):                    1.29e-46\n",
            "Time:                        07:20:49   Log-Likelihood:                         -999.35\n",
            "No. Observations:                  99   AIC:                                      2009.\n",
            "Df Residuals:                      94   BIC:                                      2022.\n",
            "Df Model:                           5                                                  \n",
            "Covariance Type:            nonrobust                                                  \n",
            "=====================================================================================================\n",
            "                                        coef    std err          t      P>|t|      [0.025      0.975]\n",
            "-----------------------------------------------------------------------------------------------------\n",
            "IQ                                 -137.1450     88.352     -1.552      0.124    -312.571      38.281\n",
            "Education expenditures per capita    16.0314      1.055     15.199      0.000      13.937      18.126\n",
            "quality of Life                     317.9796     90.157      3.527      0.001     138.972     496.988\n",
            "BMI female                         -683.0212    811.234     -0.842      0.402   -2293.745     927.702\n",
            "BMI male                            551.6554    614.302      0.898      0.371    -668.055    1771.366\n",
            "==============================================================================\n",
            "Omnibus:                       76.175   Durbin-Watson:                   2.094\n",
            "Prob(Omnibus):                  0.000   Jarque-Bera (JB):              591.553\n",
            "Skew:                           2.410   Prob(JB):                    3.52e-129\n",
            "Kurtosis:                      13.962   Cond. No.                     1.61e+03\n",
            "==============================================================================\n",
            "\n",
            "Warnings:\n",
            "[1] Standard Errors assume that the covariance matrix of the errors is correctly specified.\n",
            "[2] The condition number is large, 1.61e+03. This might indicate that there are\n",
            "strong multicollinearity or other numerical problems.\n"
          ],
          "name": "stdout"
        }
      ]
    },
    {
      "cell_type": "code",
      "metadata": {
        "colab": {
          "base_uri": "https://localhost:8080/"
        },
        "id": "8Ugryqo8PxdD",
        "outputId": "04658f8d-8334-41ad-e25a-0e1b2f693408"
      },
      "source": [
        "#model2\n",
        "X1 = df[['IQ','Education expenditures per capita']]\n",
        "Y = df['Income']\n",
        "\n",
        "model1 = sm.OLS(Y,X1).fit()\n",
        "predictions1 = model1.predict(X1) \n",
        "print_model1 = model1.summary()\n",
        "print(print_model1)"
      ],
      "execution_count": 10,
      "outputs": [
        {
          "output_type": "stream",
          "text": [
            "                                 OLS Regression Results                                \n",
            "=======================================================================================\n",
            "Dep. Variable:                 Income   R-squared (uncentered):                   0.893\n",
            "Model:                            OLS   Adj. R-squared (uncentered):              0.891\n",
            "Method:                 Least Squares   F-statistic:                              404.3\n",
            "Date:                Wed, 18 Nov 2020   Prob (F-statistic):                    8.90e-48\n",
            "Time:                        07:28:28   Log-Likelihood:                         -1005.7\n",
            "No. Observations:                  99   AIC:                                      2015.\n",
            "Df Residuals:                      97   BIC:                                      2021.\n",
            "Df Model:                           2                                                  \n",
            "Covariance Type:            nonrobust                                                  \n",
            "=====================================================================================================\n",
            "                                        coef    std err          t      P>|t|      [0.025      0.975]\n",
            "-----------------------------------------------------------------------------------------------------\n",
            "IQ                                   22.3138      9.392      2.376      0.019       3.674      40.954\n",
            "Education expenditures per capita    17.3467      0.860     20.160      0.000      15.639      19.054\n",
            "==============================================================================\n",
            "Omnibus:                       91.459   Durbin-Watson:                   2.016\n",
            "Prob(Omnibus):                  0.000   Jarque-Bera (JB):             1032.247\n",
            "Skew:                           2.922   Prob(JB):                    7.09e-225\n",
            "Kurtosis:                      17.700   Cond. No.                         14.3\n",
            "==============================================================================\n",
            "\n",
            "Warnings:\n",
            "[1] Standard Errors assume that the covariance matrix of the errors is correctly specified.\n"
          ],
          "name": "stdout"
        }
      ]
    },
    {
      "cell_type": "code",
      "metadata": {
        "colab": {
          "base_uri": "https://localhost:8080/",
          "height": 210
        },
        "id": "jB2gCmrAQZLp",
        "outputId": "5da058e4-2fbe-4efe-9ef5-c475e8410c86"
      },
      "source": [
        "#scatter plot\n",
        "x_vars = ['IQ','Education expenditures per capita','quality of Life','BMI female','BMI male']\n",
        "y_vars = ['Income']\n",
        "g = sns.PairGrid(df,x_vars=x_vars, y_vars=y_vars)\n",
        "g.map(sns.scatterplot)"
      ],
      "execution_count": 14,
      "outputs": [
        {
          "output_type": "execute_result",
          "data": {
            "text/plain": [
              "<seaborn.axisgrid.PairGrid at 0x7fad0d47d2e8>"
            ]
          },
          "metadata": {
            "tags": []
          },
          "execution_count": 14
        },
        {
          "output_type": "display_data",
          "data": {
            "image/png": "[encoded data removed]",
            "text/plain": [
              "<Figure size 900x180 with 5 Axes>"
            ]
          },
          "metadata": {
            "tags": [],
            "needs_background": "light"
          }
        }
      ]
    }
  ]
}