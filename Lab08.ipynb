{
  "nbformat": 4,
  "nbformat_minor": 0,
  "metadata": {
    "kernelspec": {
      "display_name": "Python 3",
      "language": "python",
      "name": "python3"
    },
    "language_info": {
      "codemirror_mode": {
        "name": "ipython",
        "version": 3
      },
      "file_extension": ".py",
      "mimetype": "text/x-python",
      "name": "python",
      "nbconvert_exporter": "python",
      "pygments_lexer": "ipython3",
      "version": "3.7.0"
    },
    "colab": {
      "name": "Lab08.ipynb",
      "provenance": [],
      "include_colab_link": true
    }
  },
  "cells": [
    {
      "cell_type": "markdown",
      "metadata": {
        "id": "view-in-github",
        "colab_type": "text"
      },
      "source": [
        "<a href=\"https://colab.research.google.com/github/reevutrprog/TRPROG/blob/master/Lab08.ipynb\" target=\"_parent\"><img src=\"https://colab.research.google.com/assets/colab-badge.svg\" alt=\"Open In Colab\"/></a>"
      ]
    },
    {
      "cell_type": "markdown",
      "metadata": {
        "id": "Oh-yMgU1FE2O"
      },
      "source": [
        "## Lab 08 ##\n",
        "\n",
        "How does intelligence and education impact the level of income?\n",
        "\n",
        "In order to estimate a regression, import the statsmodels module (https://www.statsmodels.org):\n",
        "\n",
        "`\n",
        "import statsmodels.api as sm\n",
        "model = sm.OLS(y, X).fit()\n",
        "predictions = model.predict(X) \n",
        "model.summary()\n",
        "`\n",
        "* y may be a series with data corresponding to the target (or dependent variable)\n",
        "* X may be a dataframe with data corresponding to the features (or independent variable)\n",
        "\n",
        "Note: Information related to IQ level is not validated. Data were obtained from the Internet. On the other hand, IQ is culturally biased, and values correspond to average\n",
        "\n",
        "dataFile='https://github.com/masterfloss/data/blob/main/exerciseInt.xlsx?raw=true'\n",
        "\n",
        "1. Read data and analyse it.\n",
        "\n",
        "2. Create a regression, where y is the Income, and all the others are features of the model.\n",
        "\n",
        "3. Analise output\n",
        "\n",
        "4. Create another repression, where y is the Income. IQ and 'Education expenditure per capita' are features of the model.\n",
        "\n",
        "5. Analyse relationship between Income and each one of the features using skatter plot.\n"
      ]
    },
    {
      "cell_type": "code",
      "metadata": {
        "id": "LxmqVt3FFE2P"
      },
      "source": [
        "import statsmodels.api as sm\n",
        "import pandas as pd\n",
        "import numpy as np\n",
        "\n",
        "file1 = r'https://github.com/masterfloss/data/blob/main/exerciseInt.xlsx?raw=true'\n",
        "df = pd.read_excel(file1)\n",
        "df.replace([np.inf, -np.inf], np.nan, inplace=True) \n",
        "df.dropna(inplace=True)\n",
        "\n"
      ],
      "execution_count": 7,
      "outputs": []
    },
    {
      "cell_type": "code",
      "metadata": {
        "colab": {
          "base_uri": "https://localhost:8080/"
        },
        "id": "6c1aQ2pGKFoe",
        "outputId": "1d0d250a-3b8a-4624-d869-d70f286dfd1a"
      },
      "source": [
        "X = df[['IQ','Education expenditures per capita','quality of Life','BMI female','BMI male']]\n",
        "Y = df['Income']\n",
        "\n",
        "model = sm.OLS(Y,X).fit()\n",
        "predictions = model.predict(X) \n",
        "print_model = model.summary()\n",
        "print(print_model)\n"
      ],
      "execution_count": 8,
      "outputs": [
        {
          "output_type": "stream",
          "text": [
            "                                 OLS Regression Results                                \n",
            "=======================================================================================\n",
            "Dep. Variable:                 Income   R-squared (uncentered):                   0.906\n",
            "Model:                            OLS   Adj. R-squared (uncentered):              0.901\n",
            "Method:                 Least Squares   F-statistic:                              180.8\n",
            "Date:                Wed, 18 Nov 2020   Prob (F-statistic):                    1.29e-46\n",
            "Time:                        07:20:49   Log-Likelihood:                         -999.35\n",
            "No. Observations:                  99   AIC:                                      2009.\n",
            "Df Residuals:                      94   BIC:                                      2022.\n",
            "Df Model:                           5                                                  \n",
            "Covariance Type:            nonrobust                                                  \n",
            "=====================================================================================================\n",
            "                                        coef    std err          t      P>|t|      [0.025      0.975]\n",
            "-----------------------------------------------------------------------------------------------------\n",
            "IQ                                 -137.1450     88.352     -1.552      0.124    -312.571      38.281\n",
            "Education expenditures per capita    16.0314      1.055     15.199      0.000      13.937      18.126\n",
            "quality of Life                     317.9796     90.157      3.527      0.001     138.972     496.988\n",
            "BMI female                         -683.0212    811.234     -0.842      0.402   -2293.745     927.702\n",
            "BMI male                            551.6554    614.302      0.898      0.371    -668.055    1771.366\n",
            "==============================================================================\n",
            "Omnibus:                       76.175   Durbin-Watson:                   2.094\n",
            "Prob(Omnibus):                  0.000   Jarque-Bera (JB):              591.553\n",
            "Skew:                           2.410   Prob(JB):                    3.52e-129\n",
            "Kurtosis:                      13.962   Cond. No.                     1.61e+03\n",
            "==============================================================================\n",
            "\n",
            "Warnings:\n",
            "[1] Standard Errors assume that the covariance matrix of the errors is correctly specified.\n",
            "[2] The condition number is large, 1.61e+03. This might indicate that there are\n",
            "strong multicollinearity or other numerical problems.\n"
          ],
          "name": "stdout"
        }
      ]
    }
  ]
}