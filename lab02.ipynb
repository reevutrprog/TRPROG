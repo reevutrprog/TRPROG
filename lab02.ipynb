{
  "nbformat": 4,
  "nbformat_minor": 0,
  "metadata": {
    "colab": {
      "name": "lab02.ipynb",
      "provenance": [],
      "collapsed_sections": []
    },
    "kernelspec": {
      "name": "python3",
      "display_name": "Python 3"
    }
  },
  "cells": [
    {
      "cell_type": "markdown",
      "metadata": {
        "id": "EZ2awm-Mwr51"
      },
      "source": [
        "1) Construct a list (shoppingList) including 'potatoes', 'carrots', 'cod' and 'sprouts’\n"
      ]
    },
    {
      "cell_type": "code",
      "metadata": {
        "id": "lDp2-upEwx_1",
        "outputId": "f9f1366c-4c3d-43fc-ae9f-71c0b58865e5",
        "colab": {
          "base_uri": "https://localhost:8080/",
          "height": 34
        }
      },
      "source": [
        "shoppingList= ['potatoes','carrots','cod','sprouts']\n",
        "shoppingList"
      ],
      "execution_count": null,
      "outputs": [
        {
          "output_type": "execute_result",
          "data": {
            "text/plain": [
              "['potatoes', 'carrots', 'cod', 'sprouts']"
            ]
          },
          "metadata": {
            "tags": []
          },
          "execution_count": 2
        }
      ]
    },
    {
      "cell_type": "markdown",
      "metadata": {
        "id": "7_RPSTYExkRV"
      },
      "source": [
        "2) Get the second and the last element of the list"
      ]
    },
    {
      "cell_type": "code",
      "metadata": {
        "id": "Rex2qJVTxrdt",
        "outputId": "4c860961-dc3b-428d-cc3a-8c15a8f329ea",
        "colab": {
          "base_uri": "https://localhost:8080/",
          "height": 34
        }
      },
      "source": [
        "print(shoppingList[1],shoppingList[-1])"
      ],
      "execution_count": null,
      "outputs": [
        {
          "output_type": "stream",
          "text": [
            "carrots sprouts\n"
          ],
          "name": "stdout"
        }
      ]
    },
    {
      "cell_type": "markdown",
      "metadata": {
        "id": "p43W7XAIyUK8"
      },
      "source": [
        "3) Iterate though the list"
      ]
    },
    {
      "cell_type": "code",
      "metadata": {
        "id": "X303-nLDyWfk",
        "outputId": "b7ef9fe3-193c-48e9-835a-b2937cb64224",
        "colab": {
          "base_uri": "https://localhost:8080/",
          "height": 85
        }
      },
      "source": [
        "for i in range(len(shoppingList)):\n",
        "      print(\"we should eat \"+ shoppingList[i])"
      ],
      "execution_count": null,
      "outputs": [
        {
          "output_type": "stream",
          "text": [
            "we should eat potatoes\n",
            "we should eat carrots\n",
            "we should eat cod\n",
            "we should eat sprouts\n"
          ],
          "name": "stdout"
        }
      ]
    },
    {
      "cell_type": "code",
      "metadata": {
        "id": "JcvwF6oAe6SD",
        "outputId": "ca0bcbc4-2e91-4efb-8eaa-46dd80fd316e",
        "colab": {
          "base_uri": "https://localhost:8080/",
          "height": 85
        }
      },
      "source": [
        "for product in shoppingList:\n",
        "  print('we should eat '+ product)"
      ],
      "execution_count": null,
      "outputs": [
        {
          "output_type": "stream",
          "text": [
            "we should eat potatoes\n",
            "we should eat carrots\n",
            "we should eat cod\n",
            "we should eat sprouts\n"
          ],
          "name": "stdout"
        }
      ]
    },
    {
      "cell_type": "markdown",
      "metadata": {
        "id": "B9yRggmq029j"
      },
      "source": [
        " 4) Add the follwoing elements to the shoppingList: orange and lime"
      ]
    },
    {
      "cell_type": "markdown",
      "metadata": {
        "id": "mdpGMW5M1bhZ"
      },
      "source": [
        ""
      ]
    },
    {
      "cell_type": "code",
      "metadata": {
        "id": "nyxqOBMx03jR",
        "outputId": "6bae12a5-185d-43bb-dea2-d770c887c22d",
        "colab": {
          "base_uri": "https://localhost:8080/",
          "height": 51
        }
      },
      "source": [
        "shoppingList.append(\"orange\")\n",
        "print(shoppingList)\n",
        "\n",
        " \n",
        "\n",
        "shoppingList.append(\"lime\")\n",
        "print(shoppingList)"
      ],
      "execution_count": null,
      "outputs": [
        {
          "output_type": "stream",
          "text": [
            "['potatoes', 'carrots', 'cod', 'sprouts', 'orange']\n",
            "['potatoes', 'carrots', 'cod', 'sprouts', 'orange', 'lime']\n"
          ],
          "name": "stdout"
        }
      ]
    },
    {
      "cell_type": "markdown",
      "metadata": {
        "id": "BAhwRs0w1tRG"
      },
      "source": [
        "6) Remove the carrots, the first element and last element of the shoppingList list"
      ]
    },
    {
      "cell_type": "code",
      "metadata": {
        "id": "2RXlsQN71vwH",
        "outputId": "389ee610-4722-4a21-8f0b-0fd91af97a35",
        "colab": {
          "base_uri": "https://localhost:8080/",
          "height": 37
        }
      },
      "source": [
        "shoppingList.pop(0)"
      ],
      "execution_count": 10,
      "outputs": [
        {
          "output_type": "execute_result",
          "data": {
            "application/vnd.google.colaboratory.intrinsic+json": {
              "type": "string"
            },
            "text/plain": [
              "'potatoes'"
            ]
          },
          "metadata": {
            "tags": []
          },
          "execution_count": 10
        }
      ]
    },
    {
      "cell_type": "code",
      "metadata": {
        "id": "cT5HgdjR17Xz",
        "outputId": "a492ef47-4b7a-4037-c05f-f28c97c4c372",
        "colab": {
          "base_uri": "https://localhost:8080/",
          "height": 36
        }
      },
      "source": [
        "shoppingList.pop(-1)"
      ],
      "execution_count": null,
      "outputs": [
        {
          "output_type": "execute_result",
          "data": {
            "application/vnd.google.colaboratory.intrinsic+json": {
              "type": "string"
            },
            "text/plain": [
              "'sprouts'"
            ]
          },
          "metadata": {
            "tags": []
          },
          "execution_count": 28
        }
      ]
    },
    {
      "cell_type": "code",
      "metadata": {
        "id": "uYJknSFj2C27"
      },
      "source": [
        "shoppingList.remove('carrots')"
      ],
      "execution_count": null,
      "outputs": []
    },
    {
      "cell_type": "code",
      "metadata": {
        "id": "lYh2YoMe2pWl",
        "outputId": "011984de-382b-4092-b253-f2d8d0597752",
        "colab": {
          "base_uri": "https://localhost:8080/",
          "height": 34
        }
      },
      "source": [
        "shoppingList"
      ],
      "execution_count": null,
      "outputs": [
        {
          "output_type": "execute_result",
          "data": {
            "text/plain": [
              "['cod']"
            ]
          },
          "metadata": {
            "tags": []
          },
          "execution_count": 30
        }
      ]
    },
    {
      "cell_type": "markdown",
      "metadata": {
        "id": "GM3TwfpI4NHG"
      },
      "source": [
        "6) How many fruits are there in the shopping list"
      ]
    },
    {
      "cell_type": "code",
      "metadata": {
        "id": "Juh7tzjA4Wd3",
        "outputId": "364be514-a1eb-4efa-bc98-914121ba91cb",
        "colab": {
          "base_uri": "https://localhost:8080/",
          "height": 34
        }
      },
      "source": [
        "len(shoppingList)"
      ],
      "execution_count": null,
      "outputs": [
        {
          "output_type": "execute_result",
          "data": {
            "text/plain": [
              "5"
            ]
          },
          "metadata": {
            "tags": []
          },
          "execution_count": 8
        }
      ]
    },
    {
      "cell_type": "code",
      "metadata": {
        "id": "UjqEXSmcdS1B",
        "outputId": "5cd089cb-d8e1-483d-9845-f3da1639df1e",
        "colab": {
          "base_uri": "https://localhost:8080/",
          "height": 34
        }
      },
      "source": [
        "shoppingList= ['potatoes','carrots','cod','sprouts']\n",
        "shoppingList"
      ],
      "execution_count": null,
      "outputs": [
        {
          "output_type": "execute_result",
          "data": {
            "text/plain": [
              "['potatoes', 'carrots', 'cod', 'sprouts']"
            ]
          },
          "metadata": {
            "tags": []
          },
          "execution_count": 9
        }
      ]
    },
    {
      "cell_type": "markdown",
      "metadata": {
        "id": "7LQZOQ7UXlYi"
      },
      "source": [
        "7) Obtain the first 3 elements of the list"
      ]
    },
    {
      "cell_type": "code",
      "metadata": {
        "id": "6Zx1KlPEXpPI",
        "outputId": "ad291fc0-8467-47a8-da2a-91ec32e237c3",
        "colab": {
          "base_uri": "https://localhost:8080/",
          "height": 34
        }
      },
      "source": [
        "print(shoppingList[:3])"
      ],
      "execution_count": null,
      "outputs": [
        {
          "output_type": "stream",
          "text": [
            "['potatoes', 'carrots', 'cod']\n"
          ],
          "name": "stdout"
        }
      ]
    },
    {
      "cell_type": "markdown",
      "metadata": {
        "id": "J0f7K_DXXpzw"
      },
      "source": [
        "8) Add the fruit \"Ananas\" in the 3rd position"
      ]
    },
    {
      "cell_type": "code",
      "metadata": {
        "id": "gSsdgEKnXvYj",
        "outputId": "7dd64cfc-d01b-4e72-d7a6-466575cf9d41",
        "colab": {
          "base_uri": "https://localhost:8080/",
          "height": 34
        }
      },
      "source": [
        "shoppingList[2] = \"Ananas\"\n",
        "shoppingList"
      ],
      "execution_count": null,
      "outputs": [
        {
          "output_type": "execute_result",
          "data": {
            "text/plain": [
              "['potatoes', 'carrots', 'Ananas', 'sprouts']"
            ]
          },
          "metadata": {
            "tags": []
          },
          "execution_count": 35
        }
      ]
    },
    {
      "cell_type": "markdown",
      "metadata": {
        "id": "Ulc4vHeKX2cz"
      },
      "source": [
        "9) Reverse the list"
      ]
    },
    {
      "cell_type": "code",
      "metadata": {
        "id": "DFlTuj4-X8uW",
        "outputId": "70718744-af69-43e7-9ba6-44e1071a52b0",
        "colab": {
          "base_uri": "https://localhost:8080/",
          "height": 34
        }
      },
      "source": [
        "shoppingList.reverse()\n",
        "shoppingList"
      ],
      "execution_count": null,
      "outputs": [
        {
          "output_type": "execute_result",
          "data": {
            "text/plain": [
              "['sprouts', 'Ananas', 'carrots', 'potatoes']"
            ]
          },
          "metadata": {
            "tags": []
          },
          "execution_count": 36
        }
      ]
    },
    {
      "cell_type": "markdown",
      "metadata": {
        "id": "3JHpLFjhX9M9"
      },
      "source": [
        "10) Sort the list"
      ]
    },
    {
      "cell_type": "code",
      "metadata": {
        "id": "_Vgo1aXYbyO9",
        "outputId": "4a91936c-8ec3-4d19-d93a-73dd4b09ce61",
        "colab": {
          "base_uri": "https://localhost:8080/",
          "height": 34
        }
      },
      "source": [
        "shoppingList.sort()\n",
        "shoppingList"
      ],
      "execution_count": null,
      "outputs": [
        {
          "output_type": "execute_result",
          "data": {
            "text/plain": [
              "['Ananas', 'carrots', 'potatoes', 'sprouts']"
            ]
          },
          "metadata": {
            "tags": []
          },
          "execution_count": 37
        }
      ]
    },
    {
      "cell_type": "markdown",
      "metadata": {
        "id": "UiqpPIzkYZ7x"
      },
      "source": [
        "11) What is the result of"
      ]
    },
    {
      "cell_type": "code",
      "metadata": {
        "id": "BCxJYPticwh6",
        "outputId": "63540945-7e64-420f-bd81-fdda8b5ca97a",
        "colab": {
          "base_uri": "https://localhost:8080/",
          "height": 34
        }
      },
      "source": [
        "shopping = shoppingList\n",
        "shoppingListCopy = shoppingList[:]\n",
        "print(shopping)"
      ],
      "execution_count": null,
      "outputs": [
        {
          "output_type": "stream",
          "text": [
            "['Ananas', 'carrots', 'potatoes', 'sprouts']\n"
          ],
          "name": "stdout"
        }
      ]
    },
    {
      "cell_type": "markdown",
      "metadata": {
        "id": "K_SyRmlDc1mz"
      },
      "source": [
        "As we copied shopping list to a new list , it printed exactly the same list."
      ]
    },
    {
      "cell_type": "code",
      "metadata": {
        "id": "RQwvItkjYdQV"
      },
      "source": [
        ""
      ],
      "execution_count": null,
      "outputs": []
    },
    {
      "cell_type": "markdown",
      "metadata": {
        "id": "z_Ik55fUYtTi"
      },
      "source": [
        "12) What is the result of\n"
      ]
    },
    {
      "cell_type": "code",
      "metadata": {
        "id": "mqLpDe6cb_SL",
        "outputId": "9f9adc8e-8f2e-4213-981a-7294a1944b11",
        "colab": {
          "base_uri": "https://localhost:8080/",
          "height": 34
        }
      },
      "source": [
        "shopping = shoppingList\n",
        "shoppingList.append(\"orange\")\n",
        "print(shopping)"
      ],
      "execution_count": null,
      "outputs": [
        {
          "output_type": "stream",
          "text": [
            "['Ananas', 'carrots', 'potatoes', 'sprouts', 'orange']\n"
          ],
          "name": "stdout"
        }
      ]
    },
    {
      "cell_type": "markdown",
      "metadata": {
        "id": "pYxisdiiYxDv"
      },
      "source": [
        "Because when we add orange to the list, new value will be added at the at the end of the list and it is not sorted."
      ]
    },
    {
      "cell_type": "markdown",
      "metadata": {
        "id": "4rtaATKiZDx_"
      },
      "source": [
        "13) remove all the items from the shoppingList"
      ]
    },
    {
      "cell_type": "code",
      "metadata": {
        "id": "jOn6odRxcnQI"
      },
      "source": [
        "shoppingList.clear()"
      ],
      "execution_count": null,
      "outputs": []
    },
    {
      "cell_type": "markdown",
      "metadata": {
        "id": "353FoCD5eHFB"
      },
      "source": [
        "14) What is the result of"
      ]
    },
    {
      "cell_type": "code",
      "metadata": {
        "id": "-36MOurFZHaS",
        "outputId": "0f312a6f-2327-4d68-a473-f75da2d9d7e8",
        "colab": {
          "base_uri": "https://localhost:8080/",
          "height": 34
        }
      },
      "source": [
        "newPurchases= [\"bananas\", \"beans\", \"rice\"]\n",
        "print (newPurchases [1])\n",
        "newPurchases [0] = \"apple\""
      ],
      "execution_count": null,
      "outputs": [
        {
          "output_type": "stream",
          "text": [
            "beans\n"
          ],
          "name": "stdout"
        }
      ]
    },
    {
      "cell_type": "code",
      "metadata": {
        "id": "MWVK1mfQZlLM",
        "outputId": "173ad8c2-796f-4816-8503-fc4e4b9a8e4e",
        "colab": {
          "base_uri": "https://localhost:8080/",
          "height": 34
        }
      },
      "source": [
        "newPurchases"
      ],
      "execution_count": null,
      "outputs": [
        {
          "output_type": "execute_result",
          "data": {
            "text/plain": [
              "['apple', 'beans', 'rice']"
            ]
          },
          "metadata": {
            "tags": []
          },
          "execution_count": 6
        }
      ]
    },
    {
      "cell_type": "markdown",
      "metadata": {
        "id": "04hFh8U9ZxZc"
      },
      "source": [
        "15) Create a dictionary including the follwoing elements: orange,apple, pear, grape and peach.Key are 1 to 5. Iterate through key-value pair. The result must be \"orange e number 1\"."
      ]
    },
    {
      "cell_type": "code",
      "metadata": {
        "id": "LSLbxhpaZ0ED",
        "outputId": "37cfbad1-8e2a-4e2d-89e5-c90084beb3da",
        "colab": {
          "base_uri": "https://localhost:8080/",
          "height": 34
        }
      },
      "source": [
        "thisdict =\t{\n",
        "    1:\"orange\",\n",
        "    2:\"apple\",\n",
        "    3:\"pear\",\n",
        "    4:\"grape\",\n",
        "    5:\"peach\"\n",
        "}\n",
        "print(thisdict)\n",
        "    "
      ],
      "execution_count": null,
      "outputs": [
        {
          "output_type": "stream",
          "text": [
            "{1: 'orange', 2: 'apple', 3: 'pear', 4: 'grape', 5: 'peach'}\n"
          ],
          "name": "stdout"
        }
      ]
    },
    {
      "cell_type": "code",
      "metadata": {
        "id": "u6VSQwu0frUz",
        "outputId": "48567912-db01-4ab7-eabc-d3279a192224",
        "colab": {
          "base_uri": "https://localhost:8080/",
          "height": 104
        }
      },
      "source": [
        "for key,value in thisdict.items():\n",
        "  print(value +\" is number \"+ str(key))"
      ],
      "execution_count": null,
      "outputs": [
        {
          "output_type": "stream",
          "text": [
            "orange is number 1\n",
            "apple is number 2\n",
            "pear is number 3\n",
            "grape is number 4\n",
            "peach is number 5\n"
          ],
          "name": "stdout"
        }
      ]
    },
    {
      "cell_type": "markdown",
      "metadata": {
        "id": "531NJPTgZ4oM"
      },
      "source": [
        "16) Create a weekList that is composed of several lists, each one corresponding to a day."
      ]
    },
    {
      "cell_type": "code",
      "metadata": {
        "id": "nmxXJgX1Z5dr",
        "outputId": "d314a71a-067c-4179-a2d9-51bd1743c3f1",
        "colab": {
          "base_uri": "https://localhost:8080/",
          "height": 34
        }
      },
      "source": [
        "day1 = [\"monday\"]\n",
        "day2 = [\"tuesday\"]\n",
        "day3 = [\"wednesday\"]\n",
        "day4 = [\"thursday\"]\n",
        "day5 = [\"friday\"]\n",
        "day6= [\"saturday\"]\n",
        "day7=[\"sunday\"]\n",
        "weeklist= day1+ day2+ day3+ day4+ day5 + day6 + day7\n",
        "weeklist"
      ],
      "execution_count": null,
      "outputs": [
        {
          "output_type": "execute_result",
          "data": {
            "text/plain": [
              "['monday', 'tuesday', 'wednesday', 'thursday', 'friday', 'saturday', 'sunday']"
            ]
          },
          "metadata": {
            "tags": []
          },
          "execution_count": 54
        }
      ]
    },
    {
      "cell_type": "markdown",
      "metadata": {
        "id": "3Tq0IASbZ583"
      },
      "source": [
        " 17) Create a list where x is belongs to a list of values from 1 to 100 and you want to generate a new list of y.\n",
        "\n",
        "$y = 3x^2 +2x +4$\n",
        "\n"
      ]
    },
    {
      "cell_type": "code",
      "metadata": {
        "id": "Bj3z2hRJaVQy"
      },
      "source": [
        "x = list(range(1,101))\n",
        "y=[3*x**(2) +2*x+ 4 for x in x ]"
      ],
      "execution_count": 14,
      "outputs": []
    },
    {
      "cell_type": "code",
      "metadata": {
        "id": "FdkjMJvJjhZ5",
        "outputId": "a5f99a74-28f9-440e-c6ae-9d253da19520",
        "colab": {
          "base_uri": "https://localhost:8080/",
          "height": 1000
        }
      },
      "source": [
        "y"
      ],
      "execution_count": null,
      "outputs": [
        {
          "output_type": "execute_result",
          "data": {
            "text/plain": [
              "[9,\n",
              " 20,\n",
              " 37,\n",
              " 60,\n",
              " 89,\n",
              " 124,\n",
              " 165,\n",
              " 212,\n",
              " 265,\n",
              " 324,\n",
              " 389,\n",
              " 460,\n",
              " 537,\n",
              " 620,\n",
              " 709,\n",
              " 804,\n",
              " 905,\n",
              " 1012,\n",
              " 1125,\n",
              " 1244,\n",
              " 1369,\n",
              " 1500,\n",
              " 1637,\n",
              " 1780,\n",
              " 1929,\n",
              " 2084,\n",
              " 2245,\n",
              " 2412,\n",
              " 2585,\n",
              " 2764,\n",
              " 2949,\n",
              " 3140,\n",
              " 3337,\n",
              " 3540,\n",
              " 3749,\n",
              " 3964,\n",
              " 4185,\n",
              " 4412,\n",
              " 4645,\n",
              " 4884,\n",
              " 5129,\n",
              " 5380,\n",
              " 5637,\n",
              " 5900,\n",
              " 6169,\n",
              " 6444,\n",
              " 6725,\n",
              " 7012,\n",
              " 7305,\n",
              " 7604,\n",
              " 7909,\n",
              " 8220,\n",
              " 8537,\n",
              " 8860,\n",
              " 9189,\n",
              " 9524,\n",
              " 9865,\n",
              " 10212,\n",
              " 10565,\n",
              " 10924,\n",
              " 11289,\n",
              " 11660,\n",
              " 12037,\n",
              " 12420,\n",
              " 12809,\n",
              " 13204,\n",
              " 13605,\n",
              " 14012,\n",
              " 14425,\n",
              " 14844,\n",
              " 15269,\n",
              " 15700,\n",
              " 16137,\n",
              " 16580,\n",
              " 17029,\n",
              " 17484,\n",
              " 17945,\n",
              " 18412,\n",
              " 18885,\n",
              " 19364,\n",
              " 19849,\n",
              " 20340,\n",
              " 20837,\n",
              " 21340,\n",
              " 21849,\n",
              " 22364,\n",
              " 22885,\n",
              " 23412,\n",
              " 23945,\n",
              " 24484,\n",
              " 25029,\n",
              " 25580,\n",
              " 26137,\n",
              " 26700,\n",
              " 27269,\n",
              " 27844,\n",
              " 28425,\n",
              " 29012,\n",
              " 29605]"
            ]
          },
          "metadata": {
            "tags": []
          },
          "execution_count": 58
        }
      ]
    }
  ]
}